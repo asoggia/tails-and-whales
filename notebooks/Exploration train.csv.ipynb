{
 "cells": [
  {
   "cell_type": "markdown",
   "id": "fc9ac24d",
   "metadata": {},
   "source": [
    "# Exploration du train CSV"
   ]
  },
  {
   "cell_type": "markdown",
   "id": "c999abfe",
   "metadata": {},
   "source": [
    "## Imports"
   ]
  },
  {
   "cell_type": "code",
   "execution_count": 1,
   "id": "e9b3888a",
   "metadata": {
    "ExecuteTime": {
     "end_time": "2022-05-16T12:39:15.561811Z",
     "start_time": "2022-05-16T12:39:10.560278Z"
    }
   },
   "outputs": [],
   "source": [
    "import pandas as pd\n",
    "import matplotlib.pyplot as plt"
   ]
  },
  {
   "cell_type": "code",
   "execution_count": 2,
   "id": "de494891",
   "metadata": {
    "ExecuteTime": {
     "end_time": "2022-05-16T12:39:15.604550Z",
     "start_time": "2022-05-16T12:39:15.573207Z"
    }
   },
   "outputs": [
    {
     "data": {
      "text/plain": [
       "'/home/anthony/code/asoggia/tails-and-whales/notebooks'"
      ]
     },
     "execution_count": 2,
     "metadata": {},
     "output_type": "execute_result"
    }
   ],
   "source": [
    "pwd"
   ]
  },
  {
   "cell_type": "code",
   "execution_count": 3,
   "id": "51849412",
   "metadata": {
    "ExecuteTime": {
     "end_time": "2022-05-16T12:39:15.793780Z",
     "start_time": "2022-05-16T12:39:15.619311Z"
    }
   },
   "outputs": [
    {
     "name": "stdout",
     "output_type": "stream",
     "text": [
      " andrea_load_pictures.ipynb\r\n",
      " andrea_transfer_learning_collab.ipynb\r\n",
      " andrea_transfer_learning.ipynb\r\n",
      " andrea_vendredi_8.ipynb\r\n",
      " anthony_dimanche_10.ipynb\r\n",
      " anthony_samedi_09.ipynb\r\n",
      "'Exploration train.csv.ipynb'\r\n",
      "'How to see convolution.ipynb'\r\n",
      " jamal_transfer_learning_happywhale_output_layer.ipynb\r\n",
      " jamal_transfer_learning_happywhale_output_layer.ipynb:Zone.Identifier\r\n",
      "'preprocess X taille 64.ipynb'\r\n",
      " \u001b[0m\u001b[01;34mtails-and-whales\u001b[0m/\r\n",
      "'Test model pour photo crop.ipynb'\r\n"
     ]
    }
   ],
   "source": [
    "ls"
   ]
  },
  {
   "cell_type": "markdown",
   "id": "f19c6e32",
   "metadata": {},
   "source": [
    "## Exploration train.csv"
   ]
  },
  {
   "cell_type": "code",
   "execution_count": 5,
   "id": "0f37857c",
   "metadata": {
    "ExecuteTime": {
     "end_time": "2022-05-16T12:39:39.521572Z",
     "start_time": "2022-05-16T12:39:39.284166Z"
    }
   },
   "outputs": [
    {
     "data": {
      "text/html": [
       "<div>\n",
       "<style scoped>\n",
       "    .dataframe tbody tr th:only-of-type {\n",
       "        vertical-align: middle;\n",
       "    }\n",
       "\n",
       "    .dataframe tbody tr th {\n",
       "        vertical-align: top;\n",
       "    }\n",
       "\n",
       "    .dataframe thead th {\n",
       "        text-align: right;\n",
       "    }\n",
       "</style>\n",
       "<table border=\"1\" class=\"dataframe\">\n",
       "  <thead>\n",
       "    <tr style=\"text-align: right;\">\n",
       "      <th></th>\n",
       "      <th>image</th>\n",
       "      <th>species</th>\n",
       "      <th>individual_id</th>\n",
       "    </tr>\n",
       "  </thead>\n",
       "  <tbody>\n",
       "    <tr>\n",
       "      <th>0</th>\n",
       "      <td>00021adfb725ed.jpg</td>\n",
       "      <td>melon_headed_whale</td>\n",
       "      <td>cadddb1636b9</td>\n",
       "    </tr>\n",
       "    <tr>\n",
       "      <th>1</th>\n",
       "      <td>000562241d384d.jpg</td>\n",
       "      <td>humpback_whale</td>\n",
       "      <td>1a71fbb72250</td>\n",
       "    </tr>\n",
       "    <tr>\n",
       "      <th>2</th>\n",
       "      <td>0007c33415ce37.jpg</td>\n",
       "      <td>false_killer_whale</td>\n",
       "      <td>60008f293a2b</td>\n",
       "    </tr>\n",
       "    <tr>\n",
       "      <th>3</th>\n",
       "      <td>0007d9bca26a99.jpg</td>\n",
       "      <td>bottlenose_dolphin</td>\n",
       "      <td>4b00fe572063</td>\n",
       "    </tr>\n",
       "    <tr>\n",
       "      <th>4</th>\n",
       "      <td>00087baf5cef7a.jpg</td>\n",
       "      <td>humpback_whale</td>\n",
       "      <td>8e5253662392</td>\n",
       "    </tr>\n",
       "  </tbody>\n",
       "</table>\n",
       "</div>"
      ],
      "text/plain": [
       "                image             species individual_id\n",
       "0  00021adfb725ed.jpg  melon_headed_whale  cadddb1636b9\n",
       "1  000562241d384d.jpg      humpback_whale  1a71fbb72250\n",
       "2  0007c33415ce37.jpg  false_killer_whale  60008f293a2b\n",
       "3  0007d9bca26a99.jpg  bottlenose_dolphin  4b00fe572063\n",
       "4  00087baf5cef7a.jpg      humpback_whale  8e5253662392"
      ]
     },
     "execution_count": 5,
     "metadata": {},
     "output_type": "execute_result"
    }
   ],
   "source": [
    "path = '../data_csv/train_kaggle.csv'\n",
    "train_data = pd.read_csv(path)\n",
    "train_data.head(5)"
   ]
  },
  {
   "cell_type": "code",
   "execution_count": 6,
   "id": "c7ec83e5",
   "metadata": {
    "ExecuteTime": {
     "end_time": "2022-05-16T12:39:44.309713Z",
     "start_time": "2022-05-16T12:39:44.239924Z"
    }
   },
   "outputs": [
    {
     "data": {
      "text/plain": [
       "51033"
      ]
     },
     "execution_count": 6,
     "metadata": {},
     "output_type": "execute_result"
    }
   ],
   "source": [
    "train_data['image'].nunique()"
   ]
  },
  {
   "cell_type": "code",
   "execution_count": 7,
   "id": "4e6886bc",
   "metadata": {
    "ExecuteTime": {
     "end_time": "2022-05-16T12:39:44.425239Z",
     "start_time": "2022-05-16T12:39:44.386078Z"
    }
   },
   "outputs": [
    {
     "data": {
      "text/plain": [
       "15587"
      ]
     },
     "execution_count": 7,
     "metadata": {},
     "output_type": "execute_result"
    }
   ],
   "source": [
    "train_data['individual_id'].nunique()"
   ]
  },
  {
   "cell_type": "code",
   "execution_count": 8,
   "id": "68e1d77b",
   "metadata": {
    "ExecuteTime": {
     "end_time": "2022-05-16T12:39:44.536607Z",
     "start_time": "2022-05-16T12:39:44.506598Z"
    },
    "scrolled": true
   },
   "outputs": [
    {
     "data": {
      "text/plain": [
       "30"
      ]
     },
     "execution_count": 8,
     "metadata": {},
     "output_type": "execute_result"
    }
   ],
   "source": [
    "train_data['species'].nunique()"
   ]
  },
  {
   "cell_type": "markdown",
   "id": "9c806115",
   "metadata": {
    "ExecuteTime": {
     "end_time": "2022-04-05T09:14:34.898970Z",
     "start_time": "2022-04-05T09:14:34.884886Z"
    }
   },
   "source": [
    "## Répartition des classes"
   ]
  },
  {
   "cell_type": "code",
   "execution_count": 9,
   "id": "897b0a2b",
   "metadata": {
    "ExecuteTime": {
     "end_time": "2022-05-16T12:39:45.649212Z",
     "start_time": "2022-05-16T12:39:45.607358Z"
    }
   },
   "outputs": [
    {
     "data": {
      "text/plain": [
       "bottlenose_dolphin           9664\n",
       "beluga                       7443\n",
       "humpback_whale               7392\n",
       "blue_whale                   4830\n",
       "false_killer_whale           3326\n",
       "dusky_dolphin                3139\n",
       "spinner_dolphin              1700\n",
       "melon_headed_whale           1689\n",
       "minke_whale                  1608\n",
       "killer_whale                 1493\n",
       "fin_whale                    1324\n",
       "gray_whale                   1123\n",
       "bottlenose_dolpin            1117\n",
       "kiler_whale                   962\n",
       "southern_right_whale          866\n",
       "spotted_dolphin               490\n",
       "sei_whale                     428\n",
       "short_finned_pilot_whale      367\n",
       "common_dolphin                347\n",
       "cuviers_beaked_whale          341\n",
       "pilot_whale                   262\n",
       "long_finned_pilot_whale       238\n",
       "white_sided_dolphin           229\n",
       "brydes_whale                  154\n",
       "pantropic_spotted_dolphin     145\n",
       "globis                        116\n",
       "commersons_dolphin             90\n",
       "pygmy_killer_whale             76\n",
       "rough_toothed_dolphin          60\n",
       "frasiers_dolphin               14\n",
       "Name: species, dtype: int64"
      ]
     },
     "execution_count": 9,
     "metadata": {},
     "output_type": "execute_result"
    }
   ],
   "source": [
    "train_data['species'].value_counts()"
   ]
  },
  {
   "cell_type": "code",
   "execution_count": 10,
   "id": "98054b82",
   "metadata": {
    "ExecuteTime": {
     "end_time": "2022-05-16T12:39:48.030139Z",
     "start_time": "2022-05-16T12:39:47.994831Z"
    }
   },
   "outputs": [
    {
     "data": {
      "text/plain": [
       "18.94"
      ]
     },
     "execution_count": 10,
     "metadata": {},
     "output_type": "execute_result"
    }
   ],
   "source": [
    "dumb_model = train_data['species'].value_counts()[0] / len(train_data) *100\n",
    "dumb_model = round(dumb_model, 2)\n",
    "dumb_model"
   ]
  },
  {
   "cell_type": "code",
   "execution_count": 11,
   "id": "ac8de923",
   "metadata": {
    "ExecuteTime": {
     "end_time": "2022-05-16T12:39:48.489378Z",
     "start_time": "2022-05-16T12:39:48.120177Z"
    }
   },
   "outputs": [
    {
     "name": "stdout",
     "output_type": "stream",
     "text": [
      "[18.94, 14.58, 14.48, 9.46, 6.52, 6.15, 3.33, 3.31, 3.15, 2.93, 2.59, 2.2, 2.19, 1.89, 1.7, 0.96, 0.84, 0.72, 0.68, 0.67, 0.51, 0.47, 0.45, 0.3, 0.28, 0.23, 0.18, 0.15, 0.12, 0.03]\n"
     ]
    }
   ],
   "source": [
    "rep_species = [round(train_data['species'].value_counts()[x] / len(train_data) *100,2) for x in range(len(train_data['species'].value_counts()))]\n",
    "print(rep_species)"
   ]
  },
  {
   "cell_type": "code",
   "execution_count": 12,
   "id": "1db4d578",
   "metadata": {
    "ExecuteTime": {
     "end_time": "2022-05-16T12:39:49.848420Z",
     "start_time": "2022-05-16T12:39:48.497435Z"
    }
   },
   "outputs": [
    {
     "data": {
      "image/png": "[encoded data removed]",
      "text/plain": [
       "<Figure size 1080x720 with 1 Axes>"
      ]
     },
     "metadata": {
      "needs_background": "light"
     },
     "output_type": "display_data"
    }
   ],
   "source": [
    "species_dict = dict(train_data['species'].value_counts())\n",
    "\n",
    "plt.figure(figsize=(15,10))\n",
    "plt.bar(*zip(*species_dict.items()))\n",
    "plt.title('Distribution des espèces en 30 classes')\n",
    "plt.show();"
   ]
  },
  {
   "cell_type": "markdown",
   "id": "bc60b07e",
   "metadata": {},
   "source": [
    "## Création classe moins précise"
   ]
  },
  {
   "cell_type": "code",
   "execution_count": 13,
   "id": "41ccd8e6",
   "metadata": {
    "ExecuteTime": {
     "end_time": "2022-05-16T12:39:51.385787Z",
     "start_time": "2022-05-16T12:39:51.049883Z"
    }
   },
   "outputs": [
    {
     "data": {
      "text/html": [
       "<div>\n",
       "<style scoped>\n",
       "    .dataframe tbody tr th:only-of-type {\n",
       "        vertical-align: middle;\n",
       "    }\n",
       "\n",
       "    .dataframe tbody tr th {\n",
       "        vertical-align: top;\n",
       "    }\n",
       "\n",
       "    .dataframe thead th {\n",
       "        text-align: right;\n",
       "    }\n",
       "</style>\n",
       "<table border=\"1\" class=\"dataframe\">\n",
       "  <thead>\n",
       "    <tr style=\"text-align: right;\">\n",
       "      <th></th>\n",
       "      <th>image</th>\n",
       "      <th>species</th>\n",
       "      <th>individual_id</th>\n",
       "      <th>speciesv2</th>\n",
       "    </tr>\n",
       "  </thead>\n",
       "  <tbody>\n",
       "    <tr>\n",
       "      <th>0</th>\n",
       "      <td>00021adfb725ed.jpg</td>\n",
       "      <td>melon_headed_whale</td>\n",
       "      <td>cadddb1636b9</td>\n",
       "      <td>whale</td>\n",
       "    </tr>\n",
       "    <tr>\n",
       "      <th>1</th>\n",
       "      <td>000562241d384d.jpg</td>\n",
       "      <td>humpback_whale</td>\n",
       "      <td>1a71fbb72250</td>\n",
       "      <td>whale</td>\n",
       "    </tr>\n",
       "    <tr>\n",
       "      <th>2</th>\n",
       "      <td>0007c33415ce37.jpg</td>\n",
       "      <td>false_killer_whale</td>\n",
       "      <td>60008f293a2b</td>\n",
       "      <td>whale</td>\n",
       "    </tr>\n",
       "    <tr>\n",
       "      <th>3</th>\n",
       "      <td>0007d9bca26a99.jpg</td>\n",
       "      <td>bottlenose_dolphin</td>\n",
       "      <td>4b00fe572063</td>\n",
       "      <td>dolphin</td>\n",
       "    </tr>\n",
       "    <tr>\n",
       "      <th>4</th>\n",
       "      <td>00087baf5cef7a.jpg</td>\n",
       "      <td>humpback_whale</td>\n",
       "      <td>8e5253662392</td>\n",
       "      <td>whale</td>\n",
       "    </tr>\n",
       "    <tr>\n",
       "      <th>...</th>\n",
       "      <td>...</td>\n",
       "      <td>...</td>\n",
       "      <td>...</td>\n",
       "      <td>...</td>\n",
       "    </tr>\n",
       "    <tr>\n",
       "      <th>51028</th>\n",
       "      <td>fff639a7a78b3f.jpg</td>\n",
       "      <td>beluga</td>\n",
       "      <td>5ac053677ed1</td>\n",
       "      <td>beluga</td>\n",
       "    </tr>\n",
       "    <tr>\n",
       "      <th>51029</th>\n",
       "      <td>fff8b32daff17e.jpg</td>\n",
       "      <td>cuviers_beaked_whale</td>\n",
       "      <td>1184686361b3</td>\n",
       "      <td>whale</td>\n",
       "    </tr>\n",
       "    <tr>\n",
       "      <th>51030</th>\n",
       "      <td>fff94675cc1aef.jpg</td>\n",
       "      <td>blue_whale</td>\n",
       "      <td>5401612696b9</td>\n",
       "      <td>whale</td>\n",
       "    </tr>\n",
       "    <tr>\n",
       "      <th>51031</th>\n",
       "      <td>fffbc5dd642d8c.jpg</td>\n",
       "      <td>beluga</td>\n",
       "      <td>4000b3d7c24e</td>\n",
       "      <td>beluga</td>\n",
       "    </tr>\n",
       "    <tr>\n",
       "      <th>51032</th>\n",
       "      <td>fffdcd42312777.jpg</td>\n",
       "      <td>bottlenose_dolphin</td>\n",
       "      <td>4ddb2eeb5efb</td>\n",
       "      <td>dolphin</td>\n",
       "    </tr>\n",
       "  </tbody>\n",
       "</table>\n",
       "<p>50917 rows × 4 columns</p>\n",
       "</div>"
      ],
      "text/plain": [
       "                    image               species individual_id speciesv2\n",
       "0      00021adfb725ed.jpg    melon_headed_whale  cadddb1636b9     whale\n",
       "1      000562241d384d.jpg        humpback_whale  1a71fbb72250     whale\n",
       "2      0007c33415ce37.jpg    false_killer_whale  60008f293a2b     whale\n",
       "3      0007d9bca26a99.jpg    bottlenose_dolphin  4b00fe572063   dolphin\n",
       "4      00087baf5cef7a.jpg        humpback_whale  8e5253662392     whale\n",
       "...                   ...                   ...           ...       ...\n",
       "51028  fff639a7a78b3f.jpg                beluga  5ac053677ed1    beluga\n",
       "51029  fff8b32daff17e.jpg  cuviers_beaked_whale  1184686361b3     whale\n",
       "51030  fff94675cc1aef.jpg            blue_whale  5401612696b9     whale\n",
       "51031  fffbc5dd642d8c.jpg                beluga  4000b3d7c24e    beluga\n",
       "51032  fffdcd42312777.jpg    bottlenose_dolphin  4ddb2eeb5efb   dolphin\n",
       "\n",
       "[50917 rows x 4 columns]"
      ]
     },
     "execution_count": 13,
     "metadata": {},
     "output_type": "execute_result"
    }
   ],
   "source": [
    "train_data['speciesv2'] = train_data['species']\n",
    "train_data['speciesv2'].loc[train_data['speciesv2'].str.contains('dolphin')] = 'dolphin'\n",
    "train_data['speciesv2'].loc[train_data['speciesv2'].str.contains('dolpin')] = 'dolphin'\n",
    "train_data['speciesv2'].loc[train_data['speciesv2'].str.contains('whale')] = 'whale'\n",
    "train_data = train_data[train_data['speciesv2'] != 'globis']\n",
    "train_data"
   ]
  },
  {
   "cell_type": "code",
   "execution_count": 14,
   "id": "b4595ad0",
   "metadata": {
    "ExecuteTime": {
     "end_time": "2022-05-16T12:39:51.434328Z",
     "start_time": "2022-05-16T12:39:51.397471Z"
    },
    "scrolled": false
   },
   "outputs": [
    {
     "data": {
      "text/plain": [
       "{'whale': 26479, 'dolphin': 16995, 'beluga': 7443}"
      ]
     },
     "execution_count": 14,
     "metadata": {},
     "output_type": "execute_result"
    }
   ],
   "source": [
    "speciesv2_dict = dict(train_data['speciesv2'].value_counts())\n",
    "speciesv2_dict"
   ]
  },
  {
   "cell_type": "code",
   "execution_count": 15,
   "id": "26da3293",
   "metadata": {
    "ExecuteTime": {
     "end_time": "2022-05-16T12:39:52.042152Z",
     "start_time": "2022-05-16T12:39:52.013569Z"
    }
   },
   "outputs": [
    {
     "data": {
      "text/plain": [
       "3"
      ]
     },
     "execution_count": 15,
     "metadata": {},
     "output_type": "execute_result"
    }
   ],
   "source": [
    "train_data['speciesv2'].nunique()"
   ]
  },
  {
   "cell_type": "code",
   "execution_count": 16,
   "id": "e76c46d3",
   "metadata": {
    "ExecuteTime": {
     "end_time": "2022-05-16T12:39:53.251974Z",
     "start_time": "2022-05-16T12:39:53.217602Z"
    }
   },
   "outputs": [
    {
     "data": {
      "text/plain": [
       "52.0"
      ]
     },
     "execution_count": 16,
     "metadata": {},
     "output_type": "execute_result"
    }
   ],
   "source": [
    "dumb_model_speciesv2 = round(train_data['speciesv2'].value_counts()[0] / len(train_data) *100,2)\n",
    "dumb_model_speciesv2"
   ]
  },
  {
   "cell_type": "code",
   "execution_count": 17,
   "id": "93b6381f",
   "metadata": {
    "ExecuteTime": {
     "end_time": "2022-05-16T12:39:53.432563Z",
     "start_time": "2022-05-16T12:39:53.359267Z"
    }
   },
   "outputs": [
    {
     "name": "stdout",
     "output_type": "stream",
     "text": [
      "[52.0, 33.38, 14.62]\n"
     ]
    }
   ],
   "source": [
    "rep_speciesv2 = [round(train_data['speciesv2'].value_counts()[x] / len(train_data) *100,2) for x in range(len(train_data['speciesv2'].value_counts()))]\n",
    "print(rep_speciesv2)\n"
   ]
  },
  {
   "cell_type": "code",
   "execution_count": 18,
   "id": "a76127e6",
   "metadata": {
    "ExecuteTime": {
     "end_time": "2022-05-16T12:39:54.094997Z",
     "start_time": "2022-05-16T12:39:53.491079Z"
    }
   },
   "outputs": [
    {
     "data": {
      "image/png": "[encoded data removed]",
      "text/plain": [
       "<Figure size 432x288 with 1 Axes>"
      ]
     },
     "metadata": {
      "needs_background": "light"
     },
     "output_type": "display_data"
    }
   ],
   "source": [
    "plt.bar(*zip(*speciesv2_dict.items()))\n",
    "plt.title('Distribution des espèces en 4 classes')\n",
    "plt.show();"
   ]
  },
  {
   "cell_type": "markdown",
   "id": "8ad21308",
   "metadata": {},
   "source": [
    "**Nous avons toujours un problème de balancement de classe en réduisant à 4 classes. Les baleines sont sur-représentées.**\n",
    "\n",
    "Options:<br>\n",
    "\n",
    "    - On garde 3 classes à savoir Whale / Dolphin / Other.\n",
    "    - On supprime globis (quel intérêt ?)\n",
    "\n",
    "Il nous faudra sûrement également fabriquer de nouvelles données afin de produire plus de Other.<br>\n",
    "Voir le cours de deeplearning sur la data Augmentation (lecture des CNN)"
   ]
  },
  {
   "cell_type": "markdown",
   "id": "85f58f02",
   "metadata": {},
   "source": [
    "## Création de 3 classes"
   ]
  },
  {
   "cell_type": "code",
   "execution_count": 19,
   "id": "fed32c15",
   "metadata": {
    "ExecuteTime": {
     "end_time": "2022-05-16T12:39:55.343352Z",
     "start_time": "2022-05-16T12:39:55.132014Z"
    }
   },
   "outputs": [
    {
     "data": {
      "text/html": [
       "<div>\n",
       "<style scoped>\n",
       "    .dataframe tbody tr th:only-of-type {\n",
       "        vertical-align: middle;\n",
       "    }\n",
       "\n",
       "    .dataframe tbody tr th {\n",
       "        vertical-align: top;\n",
       "    }\n",
       "\n",
       "    .dataframe thead th {\n",
       "        text-align: right;\n",
       "    }\n",
       "</style>\n",
       "<table border=\"1\" class=\"dataframe\">\n",
       "  <thead>\n",
       "    <tr style=\"text-align: right;\">\n",
       "      <th></th>\n",
       "      <th>image</th>\n",
       "      <th>species</th>\n",
       "      <th>individual_id</th>\n",
       "      <th>speciesv2</th>\n",
       "      <th>speciesv3</th>\n",
       "    </tr>\n",
       "  </thead>\n",
       "  <tbody>\n",
       "    <tr>\n",
       "      <th>0</th>\n",
       "      <td>00021adfb725ed.jpg</td>\n",
       "      <td>melon_headed_whale</td>\n",
       "      <td>cadddb1636b9</td>\n",
       "      <td>whale</td>\n",
       "      <td>whale</td>\n",
       "    </tr>\n",
       "    <tr>\n",
       "      <th>1</th>\n",
       "      <td>000562241d384d.jpg</td>\n",
       "      <td>humpback_whale</td>\n",
       "      <td>1a71fbb72250</td>\n",
       "      <td>whale</td>\n",
       "      <td>whale</td>\n",
       "    </tr>\n",
       "    <tr>\n",
       "      <th>2</th>\n",
       "      <td>0007c33415ce37.jpg</td>\n",
       "      <td>false_killer_whale</td>\n",
       "      <td>60008f293a2b</td>\n",
       "      <td>whale</td>\n",
       "      <td>whale</td>\n",
       "    </tr>\n",
       "    <tr>\n",
       "      <th>3</th>\n",
       "      <td>0007d9bca26a99.jpg</td>\n",
       "      <td>bottlenose_dolphin</td>\n",
       "      <td>4b00fe572063</td>\n",
       "      <td>dolphin</td>\n",
       "      <td>dolphin</td>\n",
       "    </tr>\n",
       "    <tr>\n",
       "      <th>4</th>\n",
       "      <td>00087baf5cef7a.jpg</td>\n",
       "      <td>humpback_whale</td>\n",
       "      <td>8e5253662392</td>\n",
       "      <td>whale</td>\n",
       "      <td>whale</td>\n",
       "    </tr>\n",
       "    <tr>\n",
       "      <th>...</th>\n",
       "      <td>...</td>\n",
       "      <td>...</td>\n",
       "      <td>...</td>\n",
       "      <td>...</td>\n",
       "      <td>...</td>\n",
       "    </tr>\n",
       "    <tr>\n",
       "      <th>51028</th>\n",
       "      <td>fff639a7a78b3f.jpg</td>\n",
       "      <td>beluga</td>\n",
       "      <td>5ac053677ed1</td>\n",
       "      <td>beluga</td>\n",
       "      <td>other</td>\n",
       "    </tr>\n",
       "    <tr>\n",
       "      <th>51029</th>\n",
       "      <td>fff8b32daff17e.jpg</td>\n",
       "      <td>cuviers_beaked_whale</td>\n",
       "      <td>1184686361b3</td>\n",
       "      <td>whale</td>\n",
       "      <td>whale</td>\n",
       "    </tr>\n",
       "    <tr>\n",
       "      <th>51030</th>\n",
       "      <td>fff94675cc1aef.jpg</td>\n",
       "      <td>blue_whale</td>\n",
       "      <td>5401612696b9</td>\n",
       "      <td>whale</td>\n",
       "      <td>whale</td>\n",
       "    </tr>\n",
       "    <tr>\n",
       "      <th>51031</th>\n",
       "      <td>fffbc5dd642d8c.jpg</td>\n",
       "      <td>beluga</td>\n",
       "      <td>4000b3d7c24e</td>\n",
       "      <td>beluga</td>\n",
       "      <td>other</td>\n",
       "    </tr>\n",
       "    <tr>\n",
       "      <th>51032</th>\n",
       "      <td>fffdcd42312777.jpg</td>\n",
       "      <td>bottlenose_dolphin</td>\n",
       "      <td>4ddb2eeb5efb</td>\n",
       "      <td>dolphin</td>\n",
       "      <td>dolphin</td>\n",
       "    </tr>\n",
       "  </tbody>\n",
       "</table>\n",
       "<p>50917 rows × 5 columns</p>\n",
       "</div>"
      ],
      "text/plain": [
       "                    image               species individual_id speciesv2  \\\n",
       "0      00021adfb725ed.jpg    melon_headed_whale  cadddb1636b9     whale   \n",
       "1      000562241d384d.jpg        humpback_whale  1a71fbb72250     whale   \n",
       "2      0007c33415ce37.jpg    false_killer_whale  60008f293a2b     whale   \n",
       "3      0007d9bca26a99.jpg    bottlenose_dolphin  4b00fe572063   dolphin   \n",
       "4      00087baf5cef7a.jpg        humpback_whale  8e5253662392     whale   \n",
       "...                   ...                   ...           ...       ...   \n",
       "51028  fff639a7a78b3f.jpg                beluga  5ac053677ed1    beluga   \n",
       "51029  fff8b32daff17e.jpg  cuviers_beaked_whale  1184686361b3     whale   \n",
       "51030  fff94675cc1aef.jpg            blue_whale  5401612696b9     whale   \n",
       "51031  fffbc5dd642d8c.jpg                beluga  4000b3d7c24e    beluga   \n",
       "51032  fffdcd42312777.jpg    bottlenose_dolphin  4ddb2eeb5efb   dolphin   \n",
       "\n",
       "      speciesv3  \n",
       "0         whale  \n",
       "1         whale  \n",
       "2         whale  \n",
       "3       dolphin  \n",
       "4         whale  \n",
       "...         ...  \n",
       "51028     other  \n",
       "51029     whale  \n",
       "51030     whale  \n",
       "51031     other  \n",
       "51032   dolphin  \n",
       "\n",
       "[50917 rows x 5 columns]"
      ]
     },
     "execution_count": 19,
     "metadata": {},
     "output_type": "execute_result"
    }
   ],
   "source": [
    "train_data['speciesv3'] = train_data['speciesv2']\n",
    "train_data['speciesv3'].loc[train_data['speciesv3'].str.contains('beluga')] = 'other'\n",
    "train_data['speciesv3'].loc[train_data['speciesv3'].str.contains('globis')] = 'other'\n",
    "train_data"
   ]
  },
  {
   "cell_type": "code",
   "execution_count": 20,
   "id": "5b683674",
   "metadata": {
    "ExecuteTime": {
     "end_time": "2022-05-16T12:39:55.387511Z",
     "start_time": "2022-05-16T12:39:55.355761Z"
    }
   },
   "outputs": [
    {
     "data": {
      "text/plain": [
       "{'whale': 26479, 'dolphin': 16995, 'other': 7443}"
      ]
     },
     "execution_count": 20,
     "metadata": {},
     "output_type": "execute_result"
    }
   ],
   "source": [
    "speciesv3_dict = dict(train_data['speciesv3'].value_counts())\n",
    "speciesv3_dict"
   ]
  },
  {
   "cell_type": "code",
   "execution_count": 21,
   "id": "49a45300",
   "metadata": {
    "ExecuteTime": {
     "end_time": "2022-05-16T12:39:55.437154Z",
     "start_time": "2022-05-16T12:39:55.416271Z"
    }
   },
   "outputs": [
    {
     "data": {
      "text/plain": [
       "3"
      ]
     },
     "execution_count": 21,
     "metadata": {},
     "output_type": "execute_result"
    }
   ],
   "source": [
    "train_data['speciesv3'].nunique()"
   ]
  },
  {
   "cell_type": "code",
   "execution_count": 22,
   "id": "b42b5d14",
   "metadata": {
    "ExecuteTime": {
     "end_time": "2022-05-16T12:39:55.579746Z",
     "start_time": "2022-05-16T12:39:55.546755Z"
    }
   },
   "outputs": [
    {
     "data": {
      "text/plain": [
       "52.0"
      ]
     },
     "execution_count": 22,
     "metadata": {},
     "output_type": "execute_result"
    }
   ],
   "source": [
    "dumb_model_speciesv3 = round(train_data['speciesv3'].value_counts()[0] / len(train_data) *100,2)\n",
    "dumb_model_speciesv3"
   ]
  },
  {
   "cell_type": "code",
   "execution_count": 23,
   "id": "32df8982",
   "metadata": {
    "ExecuteTime": {
     "end_time": "2022-05-16T12:39:55.768848Z",
     "start_time": "2022-05-16T12:39:55.679615Z"
    }
   },
   "outputs": [
    {
     "name": "stdout",
     "output_type": "stream",
     "text": [
      "[52.0, 33.38, 14.62]\n"
     ]
    }
   ],
   "source": [
    "rep_speciesv3 = [round(train_data['speciesv3'].value_counts()[x] / len(train_data) *100,2) for x in range(len(train_data['speciesv3'].value_counts()))]\n",
    "print(rep_speciesv3)"
   ]
  },
  {
   "cell_type": "code",
   "execution_count": 24,
   "id": "11d153c9",
   "metadata": {
    "ExecuteTime": {
     "end_time": "2022-05-16T12:39:57.616322Z",
     "start_time": "2022-05-16T12:39:57.184632Z"
    }
   },
   "outputs": [
    {
     "data": {
      "image/png": "[encoded data removed]",
      "text/plain": [
       "<Figure size 432x288 with 1 Axes>"
      ]
     },
     "metadata": {
      "needs_background": "light"
     },
     "output_type": "display_data"
    }
   ],
   "source": [
    "plt.bar(*zip(*speciesv3_dict.items()))\n",
    "plt.title('Distribution des espèces en 3 classes')\n",
    "plt.show();"
   ]
  },
  {
   "cell_type": "markdown",
   "id": "d042caec",
   "metadata": {},
   "source": [
    "Même problématique que pour la classification en 4 classes. Mais sûrement plus simple à gérer pour la création de data ?"
   ]
  },
  {
   "cell_type": "markdown",
   "id": "042b6a4b",
   "metadata": {},
   "source": [
    "## Exploration par individus"
   ]
  },
  {
   "cell_type": "code",
   "execution_count": 25,
   "id": "bc2deb63",
   "metadata": {
    "ExecuteTime": {
     "end_time": "2022-05-16T12:40:00.084149Z",
     "start_time": "2022-05-16T12:40:00.040806Z"
    }
   },
   "outputs": [
    {
     "data": {
      "text/html": [
       "<div>\n",
       "<style scoped>\n",
       "    .dataframe tbody tr th:only-of-type {\n",
       "        vertical-align: middle;\n",
       "    }\n",
       "\n",
       "    .dataframe tbody tr th {\n",
       "        vertical-align: top;\n",
       "    }\n",
       "\n",
       "    .dataframe thead th {\n",
       "        text-align: right;\n",
       "    }\n",
       "</style>\n",
       "<table border=\"1\" class=\"dataframe\">\n",
       "  <thead>\n",
       "    <tr style=\"text-align: right;\">\n",
       "      <th></th>\n",
       "      <th>image</th>\n",
       "      <th>species</th>\n",
       "      <th>individual_id</th>\n",
       "      <th>speciesv2</th>\n",
       "      <th>speciesv3</th>\n",
       "    </tr>\n",
       "  </thead>\n",
       "  <tbody>\n",
       "    <tr>\n",
       "      <th>0</th>\n",
       "      <td>00021adfb725ed.jpg</td>\n",
       "      <td>melon_headed_whale</td>\n",
       "      <td>cadddb1636b9</td>\n",
       "      <td>whale</td>\n",
       "      <td>whale</td>\n",
       "    </tr>\n",
       "    <tr>\n",
       "      <th>1</th>\n",
       "      <td>000562241d384d.jpg</td>\n",
       "      <td>humpback_whale</td>\n",
       "      <td>1a71fbb72250</td>\n",
       "      <td>whale</td>\n",
       "      <td>whale</td>\n",
       "    </tr>\n",
       "    <tr>\n",
       "      <th>2</th>\n",
       "      <td>0007c33415ce37.jpg</td>\n",
       "      <td>false_killer_whale</td>\n",
       "      <td>60008f293a2b</td>\n",
       "      <td>whale</td>\n",
       "      <td>whale</td>\n",
       "    </tr>\n",
       "    <tr>\n",
       "      <th>3</th>\n",
       "      <td>0007d9bca26a99.jpg</td>\n",
       "      <td>bottlenose_dolphin</td>\n",
       "      <td>4b00fe572063</td>\n",
       "      <td>dolphin</td>\n",
       "      <td>dolphin</td>\n",
       "    </tr>\n",
       "    <tr>\n",
       "      <th>4</th>\n",
       "      <td>00087baf5cef7a.jpg</td>\n",
       "      <td>humpback_whale</td>\n",
       "      <td>8e5253662392</td>\n",
       "      <td>whale</td>\n",
       "      <td>whale</td>\n",
       "    </tr>\n",
       "  </tbody>\n",
       "</table>\n",
       "</div>"
      ],
      "text/plain": [
       "                image             species individual_id speciesv2 speciesv3\n",
       "0  00021adfb725ed.jpg  melon_headed_whale  cadddb1636b9     whale     whale\n",
       "1  000562241d384d.jpg      humpback_whale  1a71fbb72250     whale     whale\n",
       "2  0007c33415ce37.jpg  false_killer_whale  60008f293a2b     whale     whale\n",
       "3  0007d9bca26a99.jpg  bottlenose_dolphin  4b00fe572063   dolphin   dolphin\n",
       "4  00087baf5cef7a.jpg      humpback_whale  8e5253662392     whale     whale"
      ]
     },
     "execution_count": 25,
     "metadata": {},
     "output_type": "execute_result"
    }
   ],
   "source": [
    "train_data.head(5)"
   ]
  },
  {
   "cell_type": "code",
   "execution_count": 26,
   "id": "edb0bc0c",
   "metadata": {
    "ExecuteTime": {
     "end_time": "2022-05-16T12:40:00.280489Z",
     "start_time": "2022-05-16T12:40:00.218566Z"
    }
   },
   "outputs": [
    {
     "data": {
      "text/plain": [
       "37c7aba965a5    400\n",
       "114207cab555    168\n",
       "a6e325d8e924    155\n",
       "19fbb960f07d    154\n",
       "c995c043c353    153\n",
       "               ... \n",
       "7da30c559ad2      1\n",
       "882c59ba34bb      1\n",
       "704e724a033f      1\n",
       "08983c540e76      1\n",
       "bc6fcab946c4      1\n",
       "Name: individual_id, Length: 15539, dtype: int64"
      ]
     },
     "execution_count": 26,
     "metadata": {},
     "output_type": "execute_result"
    }
   ],
   "source": [
    "train_data['individual_id'].value_counts()"
   ]
  },
  {
   "cell_type": "code",
   "execution_count": 27,
   "id": "9aad1919",
   "metadata": {
    "ExecuteTime": {
     "end_time": "2022-05-16T12:49:12.307589Z",
     "start_time": "2022-05-16T12:40:00.403640Z"
    }
   },
   "outputs": [
    {
     "data": {
      "text/plain": [
       "<BarContainer object of 15539 artists>"
      ]
     },
     "execution_count": 27,
     "metadata": {},
     "output_type": "execute_result"
    },
    {
     "name": "stdout",
     "output_type": "stream",
     "text": [
      "Error in callback <function flush_figures at 0x7f67e8147700> (for post_execute):\n"
     ]
    },
    {
     "ename": "KeyboardInterrupt",
     "evalue": "",
     "output_type": "error",
     "traceback": [
      "\u001b[0;31m---------------------------------------------------------------------------\u001b[0m",
      "\u001b[0;31mKeyboardInterrupt\u001b[0m                         Traceback (most recent call last)",
      "File \u001b[0;32m~/.pyenv/versions/3.8.12/envs/tails-and-whales/lib/python3.8/site-packages/matplotlib_inline/backend_inline.py:121\u001b[0m, in \u001b[0;36mflush_figures\u001b[0;34m()\u001b[0m\n\u001b[1;32m    118\u001b[0m \u001b[38;5;28;01mif\u001b[39;00m InlineBackend\u001b[38;5;241m.\u001b[39minstance()\u001b[38;5;241m.\u001b[39mclose_figures:\n\u001b[1;32m    119\u001b[0m     \u001b[38;5;66;03m# ignore the tracking, just draw and close all figures\u001b[39;00m\n\u001b[1;32m    120\u001b[0m     \u001b[38;5;28;01mtry\u001b[39;00m:\n\u001b[0;32m--> 121\u001b[0m         \u001b[38;5;28;01mreturn\u001b[39;00m \u001b[43mshow\u001b[49m\u001b[43m(\u001b[49m\u001b[38;5;28;43;01mTrue\u001b[39;49;00m\u001b[43m)\u001b[49m\n\u001b[1;32m    122\u001b[0m     \u001b[38;5;28;01mexcept\u001b[39;00m \u001b[38;5;167;01mException\u001b[39;00m \u001b[38;5;28;01mas\u001b[39;00m e:\n\u001b[1;32m    123\u001b[0m         \u001b[38;5;66;03m# safely show traceback if in IPython, else raise\u001b[39;00m\n\u001b[1;32m    124\u001b[0m         ip \u001b[38;5;241m=\u001b[39m get_ipython()\n",
      "File \u001b[0;32m~/.pyenv/versions/3.8.12/envs/tails-and-whales/lib/python3.8/site-packages/matplotlib_inline/backend_inline.py:41\u001b[0m, in \u001b[0;36mshow\u001b[0;34m(close, block)\u001b[0m\n\u001b[1;32m     39\u001b[0m \u001b[38;5;28;01mtry\u001b[39;00m:\n\u001b[1;32m     40\u001b[0m     \u001b[38;5;28;01mfor\u001b[39;00m figure_manager \u001b[38;5;129;01min\u001b[39;00m Gcf\u001b[38;5;241m.\u001b[39mget_all_fig_managers():\n\u001b[0;32m---> 41\u001b[0m         \u001b[43mdisplay\u001b[49m\u001b[43m(\u001b[49m\n\u001b[1;32m     42\u001b[0m \u001b[43m            \u001b[49m\u001b[43mfigure_manager\u001b[49m\u001b[38;5;241;43m.\u001b[39;49m\u001b[43mcanvas\u001b[49m\u001b[38;5;241;43m.\u001b[39;49m\u001b[43mfigure\u001b[49m\u001b[43m,\u001b[49m\n\u001b[1;32m     43\u001b[0m \u001b[43m            \u001b[49m\u001b[43mmetadata\u001b[49m\u001b[38;5;241;43m=\u001b[39;49m\u001b[43m_fetch_figure_metadata\u001b[49m\u001b[43m(\u001b[49m\u001b[43mfigure_manager\u001b[49m\u001b[38;5;241;43m.\u001b[39;49m\u001b[43mcanvas\u001b[49m\u001b[38;5;241;43m.\u001b[39;49m\u001b[43mfigure\u001b[49m\u001b[43m)\u001b[49m\n\u001b[1;32m     44\u001b[0m \u001b[43m        \u001b[49m\u001b[43m)\u001b[49m\n\u001b[1;32m     45\u001b[0m \u001b[38;5;28;01mfinally\u001b[39;00m:\n\u001b[1;32m     46\u001b[0m     show\u001b[38;5;241m.\u001b[39m_to_draw \u001b[38;5;241m=\u001b[39m []\n",
      "File \u001b[0;32m~/.pyenv/versions/3.8.12/envs/tails-and-whales/lib/python3.8/site-packages/IPython/core/display_functions.py:298\u001b[0m, in \u001b[0;36mdisplay\u001b[0;34m(include, exclude, metadata, transient, display_id, raw, clear, *objs, **kwargs)\u001b[0m\n\u001b[1;32m    296\u001b[0m     publish_display_data(data\u001b[38;5;241m=\u001b[39mobj, metadata\u001b[38;5;241m=\u001b[39mmetadata, \u001b[38;5;241m*\u001b[39m\u001b[38;5;241m*\u001b[39mkwargs)\n\u001b[1;32m    297\u001b[0m \u001b[38;5;28;01melse\u001b[39;00m:\n\u001b[0;32m--> 298\u001b[0m     format_dict, md_dict \u001b[38;5;241m=\u001b[39m \u001b[38;5;28;43mformat\u001b[39;49m\u001b[43m(\u001b[49m\u001b[43mobj\u001b[49m\u001b[43m,\u001b[49m\u001b[43m \u001b[49m\u001b[43minclude\u001b[49m\u001b[38;5;241;43m=\u001b[39;49m\u001b[43minclude\u001b[49m\u001b[43m,\u001b[49m\u001b[43m \u001b[49m\u001b[43mexclude\u001b[49m\u001b[38;5;241;43m=\u001b[39;49m\u001b[43mexclude\u001b[49m\u001b[43m)\u001b[49m\n\u001b[1;32m    299\u001b[0m     \u001b[38;5;28;01mif\u001b[39;00m \u001b[38;5;129;01mnot\u001b[39;00m format_dict:\n\u001b[1;32m    300\u001b[0m         \u001b[38;5;66;03m# nothing to display (e.g. _ipython_display_ took over)\u001b[39;00m\n\u001b[1;32m    301\u001b[0m         \u001b[38;5;28;01mcontinue\u001b[39;00m\n",
      "File \u001b[0;32m~/.pyenv/versions/3.8.12/envs/tails-and-whales/lib/python3.8/site-packages/IPython/core/formatters.py:178\u001b[0m, in \u001b[0;36mDisplayFormatter.format\u001b[0;34m(self, obj, include, exclude)\u001b[0m\n\u001b[1;32m    176\u001b[0m md \u001b[38;5;241m=\u001b[39m \u001b[38;5;28;01mNone\u001b[39;00m\n\u001b[1;32m    177\u001b[0m \u001b[38;5;28;01mtry\u001b[39;00m:\n\u001b[0;32m--> 178\u001b[0m     data \u001b[38;5;241m=\u001b[39m \u001b[43mformatter\u001b[49m\u001b[43m(\u001b[49m\u001b[43mobj\u001b[49m\u001b[43m)\u001b[49m\n\u001b[1;32m    179\u001b[0m \u001b[38;5;28;01mexcept\u001b[39;00m:\n\u001b[1;32m    180\u001b[0m     \u001b[38;5;66;03m# FIXME: log the exception\u001b[39;00m\n\u001b[1;32m    181\u001b[0m     \u001b[38;5;28;01mraise\u001b[39;00m\n",
      "File \u001b[0;32m~/.pyenv/versions/3.8.12/envs/tails-and-whales/lib/python3.8/site-packages/decorator.py:232\u001b[0m, in \u001b[0;36mdecorate.<locals>.fun\u001b[0;34m(*args, **kw)\u001b[0m\n\u001b[1;32m    230\u001b[0m \u001b[38;5;28;01mif\u001b[39;00m \u001b[38;5;129;01mnot\u001b[39;00m kwsyntax:\n\u001b[1;32m    231\u001b[0m     args, kw \u001b[38;5;241m=\u001b[39m fix(args, kw, sig)\n\u001b[0;32m--> 232\u001b[0m \u001b[38;5;28;01mreturn\u001b[39;00m \u001b[43mcaller\u001b[49m\u001b[43m(\u001b[49m\u001b[43mfunc\u001b[49m\u001b[43m,\u001b[49m\u001b[43m \u001b[49m\u001b[38;5;241;43m*\u001b[39;49m\u001b[43m(\u001b[49m\u001b[43mextras\u001b[49m\u001b[43m \u001b[49m\u001b[38;5;241;43m+\u001b[39;49m\u001b[43m \u001b[49m\u001b[43margs\u001b[49m\u001b[43m)\u001b[49m\u001b[43m,\u001b[49m\u001b[43m \u001b[49m\u001b[38;5;241;43m*\u001b[39;49m\u001b[38;5;241;43m*\u001b[39;49m\u001b[43mkw\u001b[49m\u001b[43m)\u001b[49m\n",
      "File \u001b[0;32m~/.pyenv/versions/3.8.12/envs/tails-and-whales/lib/python3.8/site-packages/IPython/core/formatters.py:222\u001b[0m, in \u001b[0;36mcatch_format_error\u001b[0;34m(method, self, *args, **kwargs)\u001b[0m\n\u001b[1;32m    220\u001b[0m \u001b[38;5;124;03m\"\"\"show traceback on failed format call\"\"\"\u001b[39;00m\n\u001b[1;32m    221\u001b[0m \u001b[38;5;28;01mtry\u001b[39;00m:\n\u001b[0;32m--> 222\u001b[0m     r \u001b[38;5;241m=\u001b[39m \u001b[43mmethod\u001b[49m\u001b[43m(\u001b[49m\u001b[38;5;28;43mself\u001b[39;49m\u001b[43m,\u001b[49m\u001b[43m \u001b[49m\u001b[38;5;241;43m*\u001b[39;49m\u001b[43margs\u001b[49m\u001b[43m,\u001b[49m\u001b[43m \u001b[49m\u001b[38;5;241;43m*\u001b[39;49m\u001b[38;5;241;43m*\u001b[39;49m\u001b[43mkwargs\u001b[49m\u001b[43m)\u001b[49m\n\u001b[1;32m    223\u001b[0m \u001b[38;5;28;01mexcept\u001b[39;00m \u001b[38;5;167;01mNotImplementedError\u001b[39;00m:\n\u001b[1;32m    224\u001b[0m     \u001b[38;5;66;03m# don't warn on NotImplementedErrors\u001b[39;00m\n\u001b[1;32m    225\u001b[0m     \u001b[38;5;28;01mreturn\u001b[39;00m \u001b[38;5;28mself\u001b[39m\u001b[38;5;241m.\u001b[39m_check_return(\u001b[38;5;28;01mNone\u001b[39;00m, args[\u001b[38;5;241m0\u001b[39m])\n",
      "File \u001b[0;32m~/.pyenv/versions/3.8.12/envs/tails-and-whales/lib/python3.8/site-packages/IPython/core/formatters.py:339\u001b[0m, in \u001b[0;36mBaseFormatter.__call__\u001b[0;34m(self, obj)\u001b[0m\n\u001b[1;32m    337\u001b[0m     \u001b[38;5;28;01mpass\u001b[39;00m\n\u001b[1;32m    338\u001b[0m \u001b[38;5;28;01melse\u001b[39;00m:\n\u001b[0;32m--> 339\u001b[0m     \u001b[38;5;28;01mreturn\u001b[39;00m \u001b[43mprinter\u001b[49m\u001b[43m(\u001b[49m\u001b[43mobj\u001b[49m\u001b[43m)\u001b[49m\n\u001b[1;32m    340\u001b[0m \u001b[38;5;66;03m# Finally look for special method names\u001b[39;00m\n\u001b[1;32m    341\u001b[0m method \u001b[38;5;241m=\u001b[39m get_real_method(obj, \u001b[38;5;28mself\u001b[39m\u001b[38;5;241m.\u001b[39mprint_method)\n",
      "File \u001b[0;32m~/.pyenv/versions/3.8.12/envs/tails-and-whales/lib/python3.8/site-packages/IPython/core/pylabtools.py:151\u001b[0m, in \u001b[0;36mprint_figure\u001b[0;34m(fig, fmt, bbox_inches, base64, **kwargs)\u001b[0m\n\u001b[1;32m    148\u001b[0m     \u001b[38;5;28;01mfrom\u001b[39;00m \u001b[38;5;21;01mmatplotlib\u001b[39;00m\u001b[38;5;21;01m.\u001b[39;00m\u001b[38;5;21;01mbackend_bases\u001b[39;00m \u001b[38;5;28;01mimport\u001b[39;00m FigureCanvasBase\n\u001b[1;32m    149\u001b[0m     FigureCanvasBase(fig)\n\u001b[0;32m--> 151\u001b[0m \u001b[43mfig\u001b[49m\u001b[38;5;241;43m.\u001b[39;49m\u001b[43mcanvas\u001b[49m\u001b[38;5;241;43m.\u001b[39;49m\u001b[43mprint_figure\u001b[49m\u001b[43m(\u001b[49m\u001b[43mbytes_io\u001b[49m\u001b[43m,\u001b[49m\u001b[43m \u001b[49m\u001b[38;5;241;43m*\u001b[39;49m\u001b[38;5;241;43m*\u001b[39;49m\u001b[43mkw\u001b[49m\u001b[43m)\u001b[49m\n\u001b[1;32m    152\u001b[0m data \u001b[38;5;241m=\u001b[39m bytes_io\u001b[38;5;241m.\u001b[39mgetvalue()\n\u001b[1;32m    153\u001b[0m \u001b[38;5;28;01mif\u001b[39;00m fmt \u001b[38;5;241m==\u001b[39m \u001b[38;5;124m'\u001b[39m\u001b[38;5;124msvg\u001b[39m\u001b[38;5;124m'\u001b[39m:\n",
      "File \u001b[0;32m~/.pyenv/versions/3.8.12/envs/tails-and-whales/lib/python3.8/site-packages/matplotlib/backend_bases.py:2299\u001b[0m, in \u001b[0;36mFigureCanvasBase.print_figure\u001b[0;34m(self, filename, dpi, facecolor, edgecolor, orientation, format, bbox_inches, pad_inches, bbox_extra_artists, backend, **kwargs)\u001b[0m\n\u001b[1;32m   2297\u001b[0m \u001b[38;5;28;01mif\u001b[39;00m bbox_inches:\n\u001b[1;32m   2298\u001b[0m     \u001b[38;5;28;01mif\u001b[39;00m bbox_inches \u001b[38;5;241m==\u001b[39m \u001b[38;5;124m\"\u001b[39m\u001b[38;5;124mtight\u001b[39m\u001b[38;5;124m\"\u001b[39m:\n\u001b[0;32m-> 2299\u001b[0m         bbox_inches \u001b[38;5;241m=\u001b[39m \u001b[38;5;28;43mself\u001b[39;49m\u001b[38;5;241;43m.\u001b[39;49m\u001b[43mfigure\u001b[49m\u001b[38;5;241;43m.\u001b[39;49m\u001b[43mget_tightbbox\u001b[49m\u001b[43m(\u001b[49m\n\u001b[1;32m   2300\u001b[0m \u001b[43m            \u001b[49m\u001b[43mrenderer\u001b[49m\u001b[43m,\u001b[49m\u001b[43m \u001b[49m\u001b[43mbbox_extra_artists\u001b[49m\u001b[38;5;241;43m=\u001b[39;49m\u001b[43mbbox_extra_artists\u001b[49m\u001b[43m)\u001b[49m\n\u001b[1;32m   2301\u001b[0m         \u001b[38;5;28;01mif\u001b[39;00m pad_inches \u001b[38;5;129;01mis\u001b[39;00m \u001b[38;5;28;01mNone\u001b[39;00m:\n\u001b[1;32m   2302\u001b[0m             pad_inches \u001b[38;5;241m=\u001b[39m rcParams[\u001b[38;5;124m'\u001b[39m\u001b[38;5;124msavefig.pad_inches\u001b[39m\u001b[38;5;124m'\u001b[39m]\n",
      "File \u001b[0;32m~/.pyenv/versions/3.8.12/envs/tails-and-whales/lib/python3.8/site-packages/matplotlib/figure.py:1641\u001b[0m, in \u001b[0;36mFigureBase.get_tightbbox\u001b[0;34m(self, renderer, bbox_extra_artists)\u001b[0m\n\u001b[1;32m   1637\u001b[0m \u001b[38;5;28;01mif\u001b[39;00m ax\u001b[38;5;241m.\u001b[39mget_visible():\n\u001b[1;32m   1638\u001b[0m     \u001b[38;5;66;03m# some axes don't take the bbox_extra_artists kwarg so we\u001b[39;00m\n\u001b[1;32m   1639\u001b[0m     \u001b[38;5;66;03m# need this conditional....\u001b[39;00m\n\u001b[1;32m   1640\u001b[0m     \u001b[38;5;28;01mtry\u001b[39;00m:\n\u001b[0;32m-> 1641\u001b[0m         bbox \u001b[38;5;241m=\u001b[39m \u001b[43max\u001b[49m\u001b[38;5;241;43m.\u001b[39;49m\u001b[43mget_tightbbox\u001b[49m\u001b[43m(\u001b[49m\n\u001b[1;32m   1642\u001b[0m \u001b[43m            \u001b[49m\u001b[43mrenderer\u001b[49m\u001b[43m,\u001b[49m\u001b[43m \u001b[49m\u001b[43mbbox_extra_artists\u001b[49m\u001b[38;5;241;43m=\u001b[39;49m\u001b[43mbbox_extra_artists\u001b[49m\u001b[43m)\u001b[49m\n\u001b[1;32m   1643\u001b[0m     \u001b[38;5;28;01mexcept\u001b[39;00m \u001b[38;5;167;01mTypeError\u001b[39;00m:\n\u001b[1;32m   1644\u001b[0m         bbox \u001b[38;5;241m=\u001b[39m ax\u001b[38;5;241m.\u001b[39mget_tightbbox(renderer)\n",
      "File \u001b[0;32m~/.pyenv/versions/3.8.12/envs/tails-and-whales/lib/python3.8/site-packages/matplotlib/axes/_base.py:4628\u001b[0m, in \u001b[0;36m_AxesBase.get_tightbbox\u001b[0;34m(self, renderer, call_axes_locator, bbox_extra_artists, for_layout_only)\u001b[0m\n\u001b[1;32m   4626\u001b[0m \u001b[38;5;28;01mif\u001b[39;00m \u001b[38;5;28mself\u001b[39m\u001b[38;5;241m.\u001b[39myaxis\u001b[38;5;241m.\u001b[39mget_visible():\n\u001b[1;32m   4627\u001b[0m     \u001b[38;5;28;01mtry\u001b[39;00m:\n\u001b[0;32m-> 4628\u001b[0m         bb_yaxis \u001b[38;5;241m=\u001b[39m \u001b[38;5;28;43mself\u001b[39;49m\u001b[38;5;241;43m.\u001b[39;49m\u001b[43myaxis\u001b[49m\u001b[38;5;241;43m.\u001b[39;49m\u001b[43mget_tightbbox\u001b[49m\u001b[43m(\u001b[49m\n\u001b[1;32m   4629\u001b[0m \u001b[43m            \u001b[49m\u001b[43mrenderer\u001b[49m\u001b[43m,\u001b[49m\u001b[43m \u001b[49m\u001b[43mfor_layout_only\u001b[49m\u001b[38;5;241;43m=\u001b[39;49m\u001b[43mfor_layout_only\u001b[49m\u001b[43m)\u001b[49m\n\u001b[1;32m   4630\u001b[0m     \u001b[38;5;28;01mexcept\u001b[39;00m \u001b[38;5;167;01mTypeError\u001b[39;00m:\n\u001b[1;32m   4631\u001b[0m         \u001b[38;5;66;03m# in case downstream library has redefined axis:\u001b[39;00m\n\u001b[1;32m   4632\u001b[0m         bb_yaxis \u001b[38;5;241m=\u001b[39m \u001b[38;5;28mself\u001b[39m\u001b[38;5;241m.\u001b[39myaxis\u001b[38;5;241m.\u001b[39mget_tightbbox(renderer)\n",
      "File \u001b[0;32m~/.pyenv/versions/3.8.12/envs/tails-and-whales/lib/python3.8/site-packages/matplotlib/axis.py:1108\u001b[0m, in \u001b[0;36mAxis.get_tightbbox\u001b[0;34m(self, renderer, for_layout_only)\u001b[0m\n\u001b[1;32m   1105\u001b[0m \u001b[38;5;28mself\u001b[39m\u001b[38;5;241m.\u001b[39m_update_label_position(renderer)\n\u001b[1;32m   1107\u001b[0m \u001b[38;5;66;03m# go back to just this axis's tick labels\u001b[39;00m\n\u001b[0;32m-> 1108\u001b[0m ticklabelBoxes, ticklabelBoxes2 \u001b[38;5;241m=\u001b[39m \u001b[38;5;28;43mself\u001b[39;49m\u001b[38;5;241;43m.\u001b[39;49m\u001b[43m_get_tick_bboxes\u001b[49m\u001b[43m(\u001b[49m\n\u001b[1;32m   1109\u001b[0m \u001b[43m            \u001b[49m\u001b[43mticks_to_draw\u001b[49m\u001b[43m,\u001b[49m\u001b[43m \u001b[49m\u001b[43mrenderer\u001b[49m\u001b[43m)\u001b[49m\n\u001b[1;32m   1111\u001b[0m \u001b[38;5;28mself\u001b[39m\u001b[38;5;241m.\u001b[39m_update_offset_text_position(ticklabelBoxes, ticklabelBoxes2)\n\u001b[1;32m   1112\u001b[0m \u001b[38;5;28mself\u001b[39m\u001b[38;5;241m.\u001b[39moffsetText\u001b[38;5;241m.\u001b[39mset_text(\u001b[38;5;28mself\u001b[39m\u001b[38;5;241m.\u001b[39mmajor\u001b[38;5;241m.\u001b[39mformatter\u001b[38;5;241m.\u001b[39mget_offset())\n",
      "File \u001b[0;32m~/.pyenv/versions/3.8.12/envs/tails-and-whales/lib/python3.8/site-packages/matplotlib/axis.py:1085\u001b[0m, in \u001b[0;36mAxis._get_tick_bboxes\u001b[0;34m(self, ticks, renderer)\u001b[0m\n\u001b[1;32m   1083\u001b[0m \u001b[38;5;28;01mdef\u001b[39;00m \u001b[38;5;21m_get_tick_bboxes\u001b[39m(\u001b[38;5;28mself\u001b[39m, ticks, renderer):\n\u001b[1;32m   1084\u001b[0m     \u001b[38;5;124;03m\"\"\"Return lists of bboxes for ticks' label1's and label2's.\"\"\"\u001b[39;00m\n\u001b[0;32m-> 1085\u001b[0m     \u001b[38;5;28;01mreturn\u001b[39;00m ([tick\u001b[38;5;241m.\u001b[39mlabel1\u001b[38;5;241m.\u001b[39mget_window_extent(renderer)\n\u001b[1;32m   1086\u001b[0m              \u001b[38;5;28;01mfor\u001b[39;00m tick \u001b[38;5;129;01min\u001b[39;00m ticks \u001b[38;5;28;01mif\u001b[39;00m tick\u001b[38;5;241m.\u001b[39mlabel1\u001b[38;5;241m.\u001b[39mget_visible()],\n\u001b[1;32m   1087\u001b[0m             [tick\u001b[38;5;241m.\u001b[39mlabel2\u001b[38;5;241m.\u001b[39mget_window_extent(renderer)\n\u001b[1;32m   1088\u001b[0m              \u001b[38;5;28;01mfor\u001b[39;00m tick \u001b[38;5;129;01min\u001b[39;00m ticks \u001b[38;5;28;01mif\u001b[39;00m tick\u001b[38;5;241m.\u001b[39mlabel2\u001b[38;5;241m.\u001b[39mget_visible()])\n",
      "File \u001b[0;32m~/.pyenv/versions/3.8.12/envs/tails-and-whales/lib/python3.8/site-packages/matplotlib/axis.py:1085\u001b[0m, in \u001b[0;36m<listcomp>\u001b[0;34m(.0)\u001b[0m\n\u001b[1;32m   1083\u001b[0m \u001b[38;5;28;01mdef\u001b[39;00m \u001b[38;5;21m_get_tick_bboxes\u001b[39m(\u001b[38;5;28mself\u001b[39m, ticks, renderer):\n\u001b[1;32m   1084\u001b[0m     \u001b[38;5;124;03m\"\"\"Return lists of bboxes for ticks' label1's and label2's.\"\"\"\u001b[39;00m\n\u001b[0;32m-> 1085\u001b[0m     \u001b[38;5;28;01mreturn\u001b[39;00m ([\u001b[43mtick\u001b[49m\u001b[38;5;241;43m.\u001b[39;49m\u001b[43mlabel1\u001b[49m\u001b[38;5;241;43m.\u001b[39;49m\u001b[43mget_window_extent\u001b[49m\u001b[43m(\u001b[49m\u001b[43mrenderer\u001b[49m\u001b[43m)\u001b[49m\n\u001b[1;32m   1086\u001b[0m              \u001b[38;5;28;01mfor\u001b[39;00m tick \u001b[38;5;129;01min\u001b[39;00m ticks \u001b[38;5;28;01mif\u001b[39;00m tick\u001b[38;5;241m.\u001b[39mlabel1\u001b[38;5;241m.\u001b[39mget_visible()],\n\u001b[1;32m   1087\u001b[0m             [tick\u001b[38;5;241m.\u001b[39mlabel2\u001b[38;5;241m.\u001b[39mget_window_extent(renderer)\n\u001b[1;32m   1088\u001b[0m              \u001b[38;5;28;01mfor\u001b[39;00m tick \u001b[38;5;129;01min\u001b[39;00m ticks \u001b[38;5;28;01mif\u001b[39;00m tick\u001b[38;5;241m.\u001b[39mlabel2\u001b[38;5;241m.\u001b[39mget_visible()])\n",
      "File \u001b[0;32m~/.pyenv/versions/3.8.12/envs/tails-and-whales/lib/python3.8/site-packages/matplotlib/text.py:910\u001b[0m, in \u001b[0;36mText.get_window_extent\u001b[0;34m(self, renderer, dpi)\u001b[0m\n\u001b[1;32m    907\u001b[0m     \u001b[38;5;28;01mraise\u001b[39;00m \u001b[38;5;167;01mRuntimeError\u001b[39;00m(\u001b[38;5;124m'\u001b[39m\u001b[38;5;124mCannot get window extent w/o renderer\u001b[39m\u001b[38;5;124m'\u001b[39m)\n\u001b[1;32m    909\u001b[0m \u001b[38;5;28;01mwith\u001b[39;00m cbook\u001b[38;5;241m.\u001b[39m_setattr_cm(\u001b[38;5;28mself\u001b[39m\u001b[38;5;241m.\u001b[39mfigure, dpi\u001b[38;5;241m=\u001b[39mdpi):\n\u001b[0;32m--> 910\u001b[0m     bbox, info, descent \u001b[38;5;241m=\u001b[39m \u001b[38;5;28;43mself\u001b[39;49m\u001b[38;5;241;43m.\u001b[39;49m\u001b[43m_get_layout\u001b[49m\u001b[43m(\u001b[49m\u001b[38;5;28;43mself\u001b[39;49m\u001b[38;5;241;43m.\u001b[39;49m\u001b[43m_renderer\u001b[49m\u001b[43m)\u001b[49m\n\u001b[1;32m    911\u001b[0m     x, y \u001b[38;5;241m=\u001b[39m \u001b[38;5;28mself\u001b[39m\u001b[38;5;241m.\u001b[39mget_unitless_position()\n\u001b[1;32m    912\u001b[0m     x, y \u001b[38;5;241m=\u001b[39m \u001b[38;5;28mself\u001b[39m\u001b[38;5;241m.\u001b[39mget_transform()\u001b[38;5;241m.\u001b[39mtransform((x, y))\n",
      "File \u001b[0;32m~/.pyenv/versions/3.8.12/envs/tails-and-whales/lib/python3.8/site-packages/matplotlib/text.py:309\u001b[0m, in \u001b[0;36mText._get_layout\u001b[0;34m(self, renderer)\u001b[0m\n\u001b[1;32m    306\u001b[0m ys \u001b[38;5;241m=\u001b[39m []\n\u001b[1;32m    308\u001b[0m \u001b[38;5;66;03m# Full vertical extent of font, including ascenders and descenders:\u001b[39;00m\n\u001b[0;32m--> 309\u001b[0m _, lp_h, lp_d \u001b[38;5;241m=\u001b[39m \u001b[43mrenderer\u001b[49m\u001b[38;5;241;43m.\u001b[39;49m\u001b[43mget_text_width_height_descent\u001b[49m\u001b[43m(\u001b[49m\n\u001b[1;32m    310\u001b[0m \u001b[43m    \u001b[49m\u001b[38;5;124;43m\"\u001b[39;49m\u001b[38;5;124;43mlp\u001b[39;49m\u001b[38;5;124;43m\"\u001b[39;49m\u001b[43m,\u001b[49m\u001b[43m \u001b[49m\u001b[38;5;28;43mself\u001b[39;49m\u001b[38;5;241;43m.\u001b[39;49m\u001b[43m_fontproperties\u001b[49m\u001b[43m,\u001b[49m\n\u001b[1;32m    311\u001b[0m \u001b[43m    \u001b[49m\u001b[43mismath\u001b[49m\u001b[38;5;241;43m=\u001b[39;49m\u001b[38;5;124;43m\"\u001b[39;49m\u001b[38;5;124;43mTeX\u001b[39;49m\u001b[38;5;124;43m\"\u001b[39;49m\u001b[43m \u001b[49m\u001b[38;5;28;43;01mif\u001b[39;49;00m\u001b[43m \u001b[49m\u001b[38;5;28;43mself\u001b[39;49m\u001b[38;5;241;43m.\u001b[39;49m\u001b[43mget_usetex\u001b[49m\u001b[43m(\u001b[49m\u001b[43m)\u001b[49m\u001b[43m \u001b[49m\u001b[38;5;28;43;01melse\u001b[39;49;00m\u001b[43m \u001b[49m\u001b[38;5;28;43;01mFalse\u001b[39;49;00m\u001b[43m)\u001b[49m\n\u001b[1;32m    312\u001b[0m min_dy \u001b[38;5;241m=\u001b[39m (lp_h \u001b[38;5;241m-\u001b[39m lp_d) \u001b[38;5;241m*\u001b[39m \u001b[38;5;28mself\u001b[39m\u001b[38;5;241m.\u001b[39m_linespacing\n\u001b[1;32m    314\u001b[0m \u001b[38;5;28;01mfor\u001b[39;00m i, line \u001b[38;5;129;01min\u001b[39;00m \u001b[38;5;28menumerate\u001b[39m(lines):\n",
      "File \u001b[0;32m~/.pyenv/versions/3.8.12/envs/tails-and-whales/lib/python3.8/site-packages/matplotlib/backends/backend_agg.py:269\u001b[0m, in \u001b[0;36mRendererAgg.get_text_width_height_descent\u001b[0;34m(self, s, prop, ismath)\u001b[0m\n\u001b[1;32m    266\u001b[0m     \u001b[38;5;28;01mreturn\u001b[39;00m width, height, descent\n\u001b[1;32m    268\u001b[0m flags \u001b[38;5;241m=\u001b[39m get_hinting_flag()\n\u001b[0;32m--> 269\u001b[0m font \u001b[38;5;241m=\u001b[39m \u001b[38;5;28;43mself\u001b[39;49m\u001b[38;5;241;43m.\u001b[39;49m\u001b[43m_get_agg_font\u001b[49m\u001b[43m(\u001b[49m\u001b[43mprop\u001b[49m\u001b[43m)\u001b[49m\n\u001b[1;32m    270\u001b[0m font\u001b[38;5;241m.\u001b[39mset_text(s, \u001b[38;5;241m0.0\u001b[39m, flags\u001b[38;5;241m=\u001b[39mflags)\n\u001b[1;32m    271\u001b[0m w, h \u001b[38;5;241m=\u001b[39m font\u001b[38;5;241m.\u001b[39mget_width_height()  \u001b[38;5;66;03m# width and height of unrotated string\u001b[39;00m\n",
      "File \u001b[0;32m~/.pyenv/versions/3.8.12/envs/tails-and-whales/lib/python3.8/site-packages/matplotlib/backends/backend_agg.py:303\u001b[0m, in \u001b[0;36mRendererAgg._get_agg_font\u001b[0;34m(self, prop)\u001b[0m\n\u001b[1;32m    299\u001b[0m \u001b[38;5;28;01mdef\u001b[39;00m \u001b[38;5;21m_get_agg_font\u001b[39m(\u001b[38;5;28mself\u001b[39m, prop):\n\u001b[1;32m    300\u001b[0m     \u001b[38;5;124;03m\"\"\"\u001b[39;00m\n\u001b[1;32m    301\u001b[0m \u001b[38;5;124;03m    Get the font for text instance t, caching for efficiency\u001b[39;00m\n\u001b[1;32m    302\u001b[0m \u001b[38;5;124;03m    \"\"\"\u001b[39;00m\n\u001b[0;32m--> 303\u001b[0m     fname \u001b[38;5;241m=\u001b[39m \u001b[43mfindfont\u001b[49m\u001b[43m(\u001b[49m\u001b[43mprop\u001b[49m\u001b[43m)\u001b[49m\n\u001b[1;32m    304\u001b[0m     font \u001b[38;5;241m=\u001b[39m get_font(fname)\n\u001b[1;32m    306\u001b[0m     font\u001b[38;5;241m.\u001b[39mclear()\n",
      "File \u001b[0;32m~/.pyenv/versions/3.8.12/envs/tails-and-whales/lib/python3.8/site-packages/matplotlib/font_manager.py:1307\u001b[0m, in \u001b[0;36mFontManager.findfont\u001b[0;34m(self, prop, fontext, directory, fallback_to_default, rebuild_if_missing)\u001b[0m\n\u001b[1;32m   1301\u001b[0m \u001b[38;5;66;03m# Pass the relevant rcParams (and the font manager, as `self`) to\u001b[39;00m\n\u001b[1;32m   1302\u001b[0m \u001b[38;5;66;03m# _findfont_cached so to prevent using a stale cache entry after an\u001b[39;00m\n\u001b[1;32m   1303\u001b[0m \u001b[38;5;66;03m# rcParam was changed.\u001b[39;00m\n\u001b[1;32m   1304\u001b[0m rc_params \u001b[38;5;241m=\u001b[39m \u001b[38;5;28mtuple\u001b[39m(\u001b[38;5;28mtuple\u001b[39m(rcParams[key]) \u001b[38;5;28;01mfor\u001b[39;00m key \u001b[38;5;129;01min\u001b[39;00m [\n\u001b[1;32m   1305\u001b[0m     \u001b[38;5;124m\"\u001b[39m\u001b[38;5;124mfont.serif\u001b[39m\u001b[38;5;124m\"\u001b[39m, \u001b[38;5;124m\"\u001b[39m\u001b[38;5;124mfont.sans-serif\u001b[39m\u001b[38;5;124m\"\u001b[39m, \u001b[38;5;124m\"\u001b[39m\u001b[38;5;124mfont.cursive\u001b[39m\u001b[38;5;124m\"\u001b[39m, \u001b[38;5;124m\"\u001b[39m\u001b[38;5;124mfont.fantasy\u001b[39m\u001b[38;5;124m\"\u001b[39m,\n\u001b[1;32m   1306\u001b[0m     \u001b[38;5;124m\"\u001b[39m\u001b[38;5;124mfont.monospace\u001b[39m\u001b[38;5;124m\"\u001b[39m])\n\u001b[0;32m-> 1307\u001b[0m \u001b[38;5;28;01mreturn\u001b[39;00m \u001b[38;5;28;43mself\u001b[39;49m\u001b[38;5;241;43m.\u001b[39;49m\u001b[43m_findfont_cached\u001b[49m\u001b[43m(\u001b[49m\n\u001b[1;32m   1308\u001b[0m \u001b[43m    \u001b[49m\u001b[43mprop\u001b[49m\u001b[43m,\u001b[49m\u001b[43m \u001b[49m\u001b[43mfontext\u001b[49m\u001b[43m,\u001b[49m\u001b[43m \u001b[49m\u001b[43mdirectory\u001b[49m\u001b[43m,\u001b[49m\u001b[43m \u001b[49m\u001b[43mfallback_to_default\u001b[49m\u001b[43m,\u001b[49m\u001b[43m \u001b[49m\u001b[43mrebuild_if_missing\u001b[49m\u001b[43m,\u001b[49m\n\u001b[1;32m   1309\u001b[0m \u001b[43m    \u001b[49m\u001b[43mrc_params\u001b[49m\u001b[43m)\u001b[49m\n",
      "File \u001b[0;32m~/.pyenv/versions/3.8.12/envs/tails-and-whales/lib/python3.8/site-packages/matplotlib/font_manager.py:713\u001b[0m, in \u001b[0;36mFontProperties.__hash__\u001b[0;34m(self)\u001b[0m\n\u001b[1;32m    710\u001b[0m \u001b[38;5;28;01mdef\u001b[39;00m \u001b[38;5;21m__hash__\u001b[39m(\u001b[38;5;28mself\u001b[39m):\n\u001b[1;32m    711\u001b[0m     l \u001b[38;5;241m=\u001b[39m (\u001b[38;5;28mtuple\u001b[39m(\u001b[38;5;28mself\u001b[39m\u001b[38;5;241m.\u001b[39mget_family()),\n\u001b[1;32m    712\u001b[0m          \u001b[38;5;28mself\u001b[39m\u001b[38;5;241m.\u001b[39mget_slant(),\n\u001b[0;32m--> 713\u001b[0m          \u001b[38;5;28;43mself\u001b[39;49m\u001b[38;5;241;43m.\u001b[39;49m\u001b[43mget_variant\u001b[49m\u001b[43m(\u001b[49m\u001b[43m)\u001b[49m,\n\u001b[1;32m    714\u001b[0m          \u001b[38;5;28mself\u001b[39m\u001b[38;5;241m.\u001b[39mget_weight(),\n\u001b[1;32m    715\u001b[0m          \u001b[38;5;28mself\u001b[39m\u001b[38;5;241m.\u001b[39mget_stretch(),\n\u001b[1;32m    716\u001b[0m          \u001b[38;5;28mself\u001b[39m\u001b[38;5;241m.\u001b[39mget_size_in_points(),\n\u001b[1;32m    717\u001b[0m          \u001b[38;5;28mself\u001b[39m\u001b[38;5;241m.\u001b[39mget_file(),\n\u001b[1;32m    718\u001b[0m          \u001b[38;5;28mself\u001b[39m\u001b[38;5;241m.\u001b[39mget_math_fontfamily())\n\u001b[1;32m    719\u001b[0m     \u001b[38;5;28;01mreturn\u001b[39;00m \u001b[38;5;28mhash\u001b[39m(l)\n",
      "File \u001b[0;32m~/.pyenv/versions/3.8.12/envs/tails-and-whales/lib/python3.8/site-packages/matplotlib/font_manager.py:746\u001b[0m, in \u001b[0;36mFontProperties.get_variant\u001b[0;34m(self)\u001b[0m\n\u001b[1;32m    743\u001b[0m     \u001b[38;5;28;01mreturn\u001b[39;00m \u001b[38;5;28mself\u001b[39m\u001b[38;5;241m.\u001b[39m_slant\n\u001b[1;32m    744\u001b[0m get_slant \u001b[38;5;241m=\u001b[39m get_style\n\u001b[0;32m--> 746\u001b[0m \u001b[38;5;28;01mdef\u001b[39;00m \u001b[38;5;21mget_variant\u001b[39m(\u001b[38;5;28mself\u001b[39m):\n\u001b[1;32m    747\u001b[0m     \u001b[38;5;124;03m\"\"\"\u001b[39;00m\n\u001b[1;32m    748\u001b[0m \u001b[38;5;124;03m    Return the font variant.  Values are: 'normal' or 'small-caps'.\u001b[39;00m\n\u001b[1;32m    749\u001b[0m \u001b[38;5;124;03m    \"\"\"\u001b[39;00m\n\u001b[1;32m    750\u001b[0m     \u001b[38;5;28;01mreturn\u001b[39;00m \u001b[38;5;28mself\u001b[39m\u001b[38;5;241m.\u001b[39m_variant\n",
      "\u001b[0;31mKeyboardInterrupt\u001b[0m: "
     ]
    }
   ],
   "source": [
    "plt.bar(x=train_data['individual_id'].value_counts(), height=train_data['individual_id'].value_counts().keys())"
   ]
  },
  {
   "cell_type": "code",
   "execution_count": 28,
   "id": "30215435",
   "metadata": {
    "ExecuteTime": {
     "end_time": "2022-05-16T12:49:12.622277Z",
     "start_time": "2022-05-16T12:49:12.319705Z"
    }
   },
   "outputs": [
    {
     "name": "stdout",
     "output_type": "stream",
     "text": [
      "              image       species  individual_id\n",
      "count  15539.000000  15539.000000   15539.000000\n",
      "mean       3.276723      3.276723       3.276723\n",
      "std        9.256065      9.256065       9.256065\n",
      "min        1.000000      1.000000       1.000000\n",
      "25%        1.000000      1.000000       1.000000\n",
      "50%        1.000000      1.000000       1.000000\n",
      "75%        2.000000      2.000000       2.000000\n",
      "max      400.000000    400.000000     400.000000\n",
      "               image  species  individual_id\n",
      "individual_id                               \n",
      "0013f1f5f2f0       1        1              1\n",
      "001618e0a31e       1        1              1\n",
      "0018a0f40586       1        1              1\n",
      "00191b9a2f6f       1        1              1\n",
      "001a09e48b2d       4        4              4\n"
     ]
    }
   ],
   "source": [
    "train_data_ind = train_data[['image', 'species', 'individual_id']].groupby(train_data['individual_id']).count()\n",
    "print(train_data_ind.describe())\n",
    "print(train_data_ind.head(5))"
   ]
  },
  {
   "cell_type": "code",
   "execution_count": 29,
   "id": "ff7dd184",
   "metadata": {
    "ExecuteTime": {
     "end_time": "2022-05-16T12:49:12.696341Z",
     "start_time": "2022-05-16T12:49:12.633513Z"
    }
   },
   "outputs": [
    {
     "data": {
      "text/html": [
       "<div>\n",
       "<style scoped>\n",
       "    .dataframe tbody tr th:only-of-type {\n",
       "        vertical-align: middle;\n",
       "    }\n",
       "\n",
       "    .dataframe tbody tr th {\n",
       "        vertical-align: top;\n",
       "    }\n",
       "\n",
       "    .dataframe thead th {\n",
       "        text-align: right;\n",
       "    }\n",
       "</style>\n",
       "<table border=\"1\" class=\"dataframe\">\n",
       "  <thead>\n",
       "    <tr style=\"text-align: right;\">\n",
       "      <th></th>\n",
       "      <th>image</th>\n",
       "      <th>species</th>\n",
       "      <th>individual_id</th>\n",
       "    </tr>\n",
       "    <tr>\n",
       "      <th>individual_id</th>\n",
       "      <th></th>\n",
       "      <th></th>\n",
       "      <th></th>\n",
       "    </tr>\n",
       "  </thead>\n",
       "  <tbody>\n",
       "    <tr>\n",
       "      <th>0013f1f5f2f0</th>\n",
       "      <td>1</td>\n",
       "      <td>1</td>\n",
       "      <td>1</td>\n",
       "    </tr>\n",
       "    <tr>\n",
       "      <th>950d3419802e</th>\n",
       "      <td>1</td>\n",
       "      <td>1</td>\n",
       "      <td>1</td>\n",
       "    </tr>\n",
       "    <tr>\n",
       "      <th>9513dd85f0b7</th>\n",
       "      <td>1</td>\n",
       "      <td>1</td>\n",
       "      <td>1</td>\n",
       "    </tr>\n",
       "    <tr>\n",
       "      <th>951e34bca414</th>\n",
       "      <td>1</td>\n",
       "      <td>1</td>\n",
       "      <td>1</td>\n",
       "    </tr>\n",
       "    <tr>\n",
       "      <th>952eba72d865</th>\n",
       "      <td>1</td>\n",
       "      <td>1</td>\n",
       "      <td>1</td>\n",
       "    </tr>\n",
       "    <tr>\n",
       "      <th>...</th>\n",
       "      <td>...</td>\n",
       "      <td>...</td>\n",
       "      <td>...</td>\n",
       "    </tr>\n",
       "    <tr>\n",
       "      <th>c995c043c353</th>\n",
       "      <td>153</td>\n",
       "      <td>153</td>\n",
       "      <td>153</td>\n",
       "    </tr>\n",
       "    <tr>\n",
       "      <th>19fbb960f07d</th>\n",
       "      <td>154</td>\n",
       "      <td>154</td>\n",
       "      <td>154</td>\n",
       "    </tr>\n",
       "    <tr>\n",
       "      <th>a6e325d8e924</th>\n",
       "      <td>155</td>\n",
       "      <td>155</td>\n",
       "      <td>155</td>\n",
       "    </tr>\n",
       "    <tr>\n",
       "      <th>114207cab555</th>\n",
       "      <td>168</td>\n",
       "      <td>168</td>\n",
       "      <td>168</td>\n",
       "    </tr>\n",
       "    <tr>\n",
       "      <th>37c7aba965a5</th>\n",
       "      <td>400</td>\n",
       "      <td>400</td>\n",
       "      <td>400</td>\n",
       "    </tr>\n",
       "  </tbody>\n",
       "</table>\n",
       "<p>15539 rows × 3 columns</p>\n",
       "</div>"
      ],
      "text/plain": [
       "               image  species  individual_id\n",
       "individual_id                               \n",
       "0013f1f5f2f0       1        1              1\n",
       "950d3419802e       1        1              1\n",
       "9513dd85f0b7       1        1              1\n",
       "951e34bca414       1        1              1\n",
       "952eba72d865       1        1              1\n",
       "...              ...      ...            ...\n",
       "c995c043c353     153      153            153\n",
       "19fbb960f07d     154      154            154\n",
       "a6e325d8e924     155      155            155\n",
       "114207cab555     168      168            168\n",
       "37c7aba965a5     400      400            400\n",
       "\n",
       "[15539 rows x 3 columns]"
      ]
     },
     "execution_count": 29,
     "metadata": {},
     "output_type": "execute_result"
    }
   ],
   "source": [
    "train_data_ind = train_data_ind.sort_values('image')\n",
    "train_data_ind"
   ]
  },
  {
   "cell_type": "code",
   "execution_count": 30,
   "id": "a6a0a1f1",
   "metadata": {
    "ExecuteTime": {
     "end_time": "2022-05-16T12:49:12.743541Z",
     "start_time": "2022-05-16T12:49:12.712378Z"
    }
   },
   "outputs": [
    {
     "data": {
      "text/plain": [
       "1      9241\n",
       "2      3075\n",
       "3       767\n",
       "4       737\n",
       "5       372\n",
       "       ... \n",
       "89        1\n",
       "93        1\n",
       "61        1\n",
       "98        1\n",
       "400       1\n",
       "Name: image, Length: 108, dtype: int64"
      ]
     },
     "execution_count": 30,
     "metadata": {},
     "output_type": "execute_result"
    }
   ],
   "source": [
    "train_data_ind['image'].value_counts()"
   ]
  },
  {
   "cell_type": "code",
   "execution_count": 31,
   "id": "c1104219",
   "metadata": {
    "ExecuteTime": {
     "end_time": "2022-05-16T12:49:14.150875Z",
     "start_time": "2022-05-16T12:49:12.758231Z"
    }
   },
   "outputs": [
    {
     "data": {
      "text/plain": [
       "(0.0, 3500.0)"
      ]
     },
     "execution_count": 31,
     "metadata": {},
     "output_type": "execute_result"
    },
    {
     "data": {
      "image/png": "[encoded data removed]",
      "text/plain": [
       "<Figure size 432x288 with 1 Axes>"
      ]
     },
     "metadata": {
      "needs_background": "light"
     },
     "output_type": "display_data"
    }
   ],
   "source": [
    "plt.bar(height=train_data_ind['image'].value_counts(), x=train_data_ind['image'].value_counts().keys())\n",
    "plt.ylim(0,3500)"
   ]
  },
  {
   "cell_type": "markdown",
   "id": "1eba5f97",
   "metadata": {},
   "source": [
    "##"
   ]
  },
  {
   "cell_type": "code",
   "execution_count": 32,
   "id": "dd9ed09a",
   "metadata": {
    "ExecuteTime": {
     "end_time": "2022-05-16T12:49:27.462321Z",
     "start_time": "2022-05-16T12:49:14.157841Z"
    }
   },
   "outputs": [
    {
     "name": "stderr",
     "output_type": "stream",
     "text": [
      "2022-05-16 14:49:15.843759: W tensorflow/stream_executor/platform/default/dso_loader.cc:64] Could not load dynamic library 'libcudart.so.11.0'; dlerror: libcudart.so.11.0: cannot open shared object file: No such file or directory\n",
      "2022-05-16 14:49:15.843925: I tensorflow/stream_executor/cuda/cudart_stub.cc:29] Ignore above cudart dlerror if you do not have a GPU set up on your machine.\n"
     ]
    }
   ],
   "source": [
    "from matplotlib import image\n",
    "import numpy as np\n",
    "from tensorflow.keras.applications.vgg16 import preprocess_input\n",
    "from tensorflow.keras.preprocessing.image import smart_resize\n",
    "images_name = [\"000bef247c7a42.jpg\", \"000a8f2d5c316a.jpg\", \"000be9acf46619.jpg\"]\n",
    "size = (256, 256)"
   ]
  },
  {
   "cell_type": "code",
   "execution_count": 33,
   "id": "11c76613",
   "metadata": {
    "ExecuteTime": {
     "end_time": "2022-05-16T12:49:31.301821Z",
     "start_time": "2022-05-16T12:49:27.475769Z"
    }
   },
   "outputs": [
    {
     "ename": "FileNotFoundError",
     "evalue": "[Errno 2] No such file or directory: 'Data/train_image/000a8f2d5c316a.jpg'",
     "output_type": "error",
     "traceback": [
      "\u001b[0;31m---------------------------------------------------------------------------\u001b[0m",
      "\u001b[0;31mFileNotFoundError\u001b[0m                         Traceback (most recent call last)",
      "Input \u001b[0;32mIn [33]\u001b[0m, in \u001b[0;36m<cell line: 1>\u001b[0;34m()\u001b[0m\n\u001b[0;32m----> 1\u001b[0m img \u001b[38;5;241m=\u001b[39m \u001b[43mimage\u001b[49m\u001b[38;5;241;43m.\u001b[39;49m\u001b[43mimread\u001b[49m\u001b[43m(\u001b[49m\u001b[38;5;124;43m\"\u001b[39;49m\u001b[38;5;124;43mData/train_image/000a8f2d5c316a.jpg\u001b[39;49m\u001b[38;5;124;43m\"\u001b[39;49m\u001b[43m)\u001b[49m\n\u001b[1;32m      2\u001b[0m \u001b[38;5;28;01mfor\u001b[39;00m image_name \u001b[38;5;129;01min\u001b[39;00m images_name:\n\u001b[1;32m      3\u001b[0m     path \u001b[38;5;241m=\u001b[39m \u001b[38;5;124mf\u001b[39m\u001b[38;5;124m\"\u001b[39m\u001b[38;5;124mData/train_image/\u001b[39m\u001b[38;5;132;01m{\u001b[39;00mimage_name\u001b[38;5;132;01m}\u001b[39;00m\u001b[38;5;124m\"\u001b[39m\n",
      "File \u001b[0;32m~/.pyenv/versions/3.8.12/envs/tails-and-whales/lib/python3.8/site-packages/matplotlib/image.py:1560\u001b[0m, in \u001b[0;36mimread\u001b[0;34m(fname, format)\u001b[0m\n\u001b[1;32m   1558\u001b[0m                 response \u001b[38;5;241m=\u001b[39m io\u001b[38;5;241m.\u001b[39mBytesIO(response\u001b[38;5;241m.\u001b[39mread())\n\u001b[1;32m   1559\u001b[0m             \u001b[38;5;28;01mreturn\u001b[39;00m imread(response, \u001b[38;5;28mformat\u001b[39m\u001b[38;5;241m=\u001b[39mext)\n\u001b[0;32m-> 1560\u001b[0m \u001b[38;5;28;01mwith\u001b[39;00m \u001b[43mimg_open\u001b[49m\u001b[43m(\u001b[49m\u001b[43mfname\u001b[49m\u001b[43m)\u001b[49m \u001b[38;5;28;01mas\u001b[39;00m image:\n\u001b[1;32m   1561\u001b[0m     \u001b[38;5;28;01mreturn\u001b[39;00m (_pil_png_to_float_array(image)\n\u001b[1;32m   1562\u001b[0m             \u001b[38;5;28;01mif\u001b[39;00m \u001b[38;5;28misinstance\u001b[39m(image, PIL\u001b[38;5;241m.\u001b[39mPngImagePlugin\u001b[38;5;241m.\u001b[39mPngImageFile) \u001b[38;5;28;01melse\u001b[39;00m\n\u001b[1;32m   1563\u001b[0m             pil_to_array(image))\n",
      "File \u001b[0;32m~/.pyenv/versions/3.8.12/envs/tails-and-whales/lib/python3.8/site-packages/PIL/Image.py:3068\u001b[0m, in \u001b[0;36mopen\u001b[0;34m(fp, mode, formats)\u001b[0m\n\u001b[1;32m   3065\u001b[0m     filename \u001b[38;5;241m=\u001b[39m fp\n\u001b[1;32m   3067\u001b[0m \u001b[38;5;28;01mif\u001b[39;00m filename:\n\u001b[0;32m-> 3068\u001b[0m     fp \u001b[38;5;241m=\u001b[39m \u001b[43mbuiltins\u001b[49m\u001b[38;5;241;43m.\u001b[39;49m\u001b[43mopen\u001b[49m\u001b[43m(\u001b[49m\u001b[43mfilename\u001b[49m\u001b[43m,\u001b[49m\u001b[43m \u001b[49m\u001b[38;5;124;43m\"\u001b[39;49m\u001b[38;5;124;43mrb\u001b[39;49m\u001b[38;5;124;43m\"\u001b[39;49m\u001b[43m)\u001b[49m\n\u001b[1;32m   3069\u001b[0m     exclusive_fp \u001b[38;5;241m=\u001b[39m \u001b[38;5;28;01mTrue\u001b[39;00m\n\u001b[1;32m   3071\u001b[0m \u001b[38;5;28;01mtry\u001b[39;00m:\n",
      "\u001b[0;31mFileNotFoundError\u001b[0m: [Errno 2] No such file or directory: 'Data/train_image/000a8f2d5c316a.jpg'"
     ]
    }
   ],
   "source": [
    "img = image.imread(\"Data/train_image/000a8f2d5c316a.jpg\")\n",
    "for image_name in images_name:\n",
    "    path = f\"Data/train_image/{image_name}\"\n",
    "    print(path)\n",
    "    img = image.imread(path)\n",
    "    print(img.shape)\n",
    "    processed_img = preprocess_input(img, mode='tf')\n",
    "    print(processed_img.shape)"
   ]
  },
  {
   "cell_type": "code",
   "execution_count": null,
   "id": "3bfd61a4",
   "metadata": {
    "ExecuteTime": {
     "end_time": "2022-05-16T12:49:31.314029Z",
     "start_time": "2022-05-16T12:49:31.313912Z"
    }
   },
   "outputs": [],
   "source": [
    "for image_name in images_name:\n",
    "    path = f\"Data/train_image/{image_name}\"\n",
    "    print(path)\n",
    "    img = image.imread(path)\n",
    "    print(img.shape)"
   ]
  },
  {
   "cell_type": "code",
   "execution_count": null,
   "id": "fdde6bce",
   "metadata": {
    "ExecuteTime": {
     "end_time": "2022-05-16T12:49:31.323599Z",
     "start_time": "2022-05-16T12:49:31.323525Z"
    }
   },
   "outputs": [],
   "source": [
    "print( type(img) )\n",
    "print( img.shape )"
   ]
  },
  {
   "cell_type": "code",
   "execution_count": null,
   "id": "a6f29e5c",
   "metadata": {
    "ExecuteTime": {
     "end_time": "2022-05-16T12:49:31.339753Z",
     "start_time": "2022-05-16T12:49:31.339569Z"
    }
   },
   "outputs": [],
   "source": [
    "import matplotlib.pyplot as plt\n",
    "plt.imshow(img, cmap='gray')"
   ]
  },
  {
   "cell_type": "code",
   "execution_count": null,
   "id": "6a0580b8",
   "metadata": {},
   "outputs": [],
   "source": []
  },
  {
   "cell_type": "code",
   "execution_count": null,
   "id": "714dfbeb",
   "metadata": {},
   "outputs": [],
   "source": [
    "# Considering only 1/10th of the 50_000 images\n",
    "reduction_factor = 0.5\n",
    "# Choosing the random indices of small train set and small test set\n",
    "idx_train =  np.random.choice(len(images_train), round(len(images_train)/reduction_factor))\n",
    "idx_test =  np.random.choice(len(images_test), round(len(images_test)/reduction_factor))\n",
    "# Collecting the two subsamples images_train_small and images_test_small from images_train and images_test\n",
    "images_train_small = images_train[idx_train]\n",
    "images_test_small = images_test[idx_test]\n",
    "# and their corresponding labels\n",
    "labels_train_small = labels_train[idx_train]\n",
    "labels_test_small = labels_test[idx_test]\n",
    "print(“------------------ Before -----------------“)\n",
    "print(images_train.shape, images_test.shape)\n",
    "print(“”)\n",
    "print(“--- After applying the reduction factor ---“)\n",
    "print(images_train_small.shape, images_test_small.shape)\n",
    "print(“”)\n",
    "print(“-”*43)\n",
    "unique, counts = np.unique(labels_train_small, return_counts=True)\n",
    "dict(zip(unique, counts)"
   ]
  },
  {
   "cell_type": "markdown",
   "id": "46c21ac6",
   "metadata": {},
   "source": [
    "## Data 35000 images"
   ]
  },
  {
   "cell_type": "code",
   "execution_count": 34,
   "id": "30cee83c",
   "metadata": {
    "ExecuteTime": {
     "end_time": "2022-04-11T09:38:34.038793Z",
     "start_time": "2022-04-11T09:38:33.472970Z"
    }
   },
   "outputs": [
    {
     "data": {
      "text/html": [
       "<div>\n",
       "<style scoped>\n",
       "    .dataframe tbody tr th:only-of-type {\n",
       "        vertical-align: middle;\n",
       "    }\n",
       "\n",
       "    .dataframe tbody tr th {\n",
       "        vertical-align: top;\n",
       "    }\n",
       "\n",
       "    .dataframe thead th {\n",
       "        text-align: right;\n",
       "    }\n",
       "</style>\n",
       "<table border=\"1\" class=\"dataframe\">\n",
       "  <thead>\n",
       "    <tr style=\"text-align: right;\">\n",
       "      <th></th>\n",
       "      <th>image</th>\n",
       "      <th>species</th>\n",
       "      <th>individual_id</th>\n",
       "      <th>speciesv2</th>\n",
       "    </tr>\n",
       "  </thead>\n",
       "  <tbody>\n",
       "    <tr>\n",
       "      <th>0</th>\n",
       "      <td>00021adfb725ed.jpg</td>\n",
       "      <td>melon_headed_whale</td>\n",
       "      <td>cadddb1636b9</td>\n",
       "      <td>whale</td>\n",
       "    </tr>\n",
       "    <tr>\n",
       "      <th>1</th>\n",
       "      <td>000562241d384d.jpg</td>\n",
       "      <td>humpback_whale</td>\n",
       "      <td>1a71fbb72250</td>\n",
       "      <td>whale</td>\n",
       "    </tr>\n",
       "    <tr>\n",
       "      <th>2</th>\n",
       "      <td>0007c33415ce37.jpg</td>\n",
       "      <td>false_killer_whale</td>\n",
       "      <td>60008f293a2b</td>\n",
       "      <td>whale</td>\n",
       "    </tr>\n",
       "    <tr>\n",
       "      <th>3</th>\n",
       "      <td>0007d9bca26a99.jpg</td>\n",
       "      <td>bottlenose_dolphin</td>\n",
       "      <td>4b00fe572063</td>\n",
       "      <td>dolphin</td>\n",
       "    </tr>\n",
       "    <tr>\n",
       "      <th>4</th>\n",
       "      <td>00087baf5cef7a.jpg</td>\n",
       "      <td>humpback_whale</td>\n",
       "      <td>8e5253662392</td>\n",
       "      <td>whale</td>\n",
       "    </tr>\n",
       "    <tr>\n",
       "      <th>...</th>\n",
       "      <td>...</td>\n",
       "      <td>...</td>\n",
       "      <td>...</td>\n",
       "      <td>...</td>\n",
       "    </tr>\n",
       "    <tr>\n",
       "      <th>34995</th>\n",
       "      <td>b00abc67597f5f.jpg</td>\n",
       "      <td>bottlenose_dolphin</td>\n",
       "      <td>77410a623426</td>\n",
       "      <td>dolphin</td>\n",
       "    </tr>\n",
       "    <tr>\n",
       "      <th>34996</th>\n",
       "      <td>b00d1d92a3acea.jpg</td>\n",
       "      <td>beluga</td>\n",
       "      <td>ab259a0d70c5</td>\n",
       "      <td>beluga</td>\n",
       "    </tr>\n",
       "    <tr>\n",
       "      <th>34997</th>\n",
       "      <td>b00da8fa269a88.jpg</td>\n",
       "      <td>bottlenose_dolphin</td>\n",
       "      <td>9e89f8e28807</td>\n",
       "      <td>dolphin</td>\n",
       "    </tr>\n",
       "    <tr>\n",
       "      <th>34998</th>\n",
       "      <td>b00dc4eb8b144e.jpg</td>\n",
       "      <td>false_killer_whale</td>\n",
       "      <td>b5e1ee74f22b</td>\n",
       "      <td>whale</td>\n",
       "    </tr>\n",
       "    <tr>\n",
       "      <th>34999</th>\n",
       "      <td>b00ddee3ee6fd0.jpg</td>\n",
       "      <td>false_killer_whale</td>\n",
       "      <td>5673ef5d216b</td>\n",
       "      <td>whale</td>\n",
       "    </tr>\n",
       "  </tbody>\n",
       "</table>\n",
       "<p>35000 rows × 4 columns</p>\n",
       "</div>"
      ],
      "text/plain": [
       "                    image             species individual_id speciesv2\n",
       "0      00021adfb725ed.jpg  melon_headed_whale  cadddb1636b9     whale\n",
       "1      000562241d384d.jpg      humpback_whale  1a71fbb72250     whale\n",
       "2      0007c33415ce37.jpg  false_killer_whale  60008f293a2b     whale\n",
       "3      0007d9bca26a99.jpg  bottlenose_dolphin  4b00fe572063   dolphin\n",
       "4      00087baf5cef7a.jpg      humpback_whale  8e5253662392     whale\n",
       "...                   ...                 ...           ...       ...\n",
       "34995  b00abc67597f5f.jpg  bottlenose_dolphin  77410a623426   dolphin\n",
       "34996  b00d1d92a3acea.jpg              beluga  ab259a0d70c5    beluga\n",
       "34997  b00da8fa269a88.jpg  bottlenose_dolphin  9e89f8e28807   dolphin\n",
       "34998  b00dc4eb8b144e.jpg  false_killer_whale  b5e1ee74f22b     whale\n",
       "34999  b00ddee3ee6fd0.jpg  false_killer_whale  5673ef5d216b     whale\n",
       "\n",
       "[35000 rows x 4 columns]"
      ]
     },
     "execution_count": 34,
     "metadata": {},
     "output_type": "execute_result"
    }
   ],
   "source": [
    "path = '../../asoggia/tails-and-whales/raw_data/train_kaggle.csv'\n",
    "train_data_35000 = pd.read_csv(path)\n",
    "train_data_35000.head(5)\n",
    "\n",
    "train_data_35000['speciesv2'] = train_data_35000['species']\n",
    "train_data_35000['speciesv2'].loc[train_data_35000['speciesv2'].str.contains('dolphin')] = 'dolphin'\n",
    "train_data_35000['speciesv2'].loc[train_data_35000['speciesv2'].str.contains('dolpin')] = 'dolphin'\n",
    "train_data_35000['speciesv2'].loc[train_data_35000['speciesv2'].str.contains('whale')] = 'whale'\n",
    "train_data_35000 = train_data_35000[train_data_35000['speciesv2'] != 'globis']\n",
    "\n",
    "train_data_reset_index = train_data_35000.reset_index().drop(columns='index')\n",
    "train_data_reset_index = train_data_reset_index[train_data_reset_index.index < 35000]\n",
    "data_35000 = train_data_reset_index\n",
    "data_35000"
   ]
  },
  {
   "cell_type": "code",
   "execution_count": 35,
   "id": "93f6ba72",
   "metadata": {
    "ExecuteTime": {
     "end_time": "2022-04-11T09:38:34.752962Z",
     "start_time": "2022-04-11T09:38:34.720037Z"
    }
   },
   "outputs": [
    {
     "data": {
      "text/plain": [
       "{'whale': 18176, 'dolphin': 11713, 'beluga': 5111}"
      ]
     },
     "execution_count": 35,
     "metadata": {},
     "output_type": "execute_result"
    }
   ],
   "source": [
    "speciesv2_dict_35000 = dict(data_35000['speciesv2'].value_counts())\n",
    "speciesv2_dict_35000"
   ]
  },
  {
   "cell_type": "code",
   "execution_count": 36,
   "id": "1c4bb545",
   "metadata": {
    "ExecuteTime": {
     "end_time": "2022-04-11T09:38:35.520610Z",
     "start_time": "2022-04-11T09:38:35.499883Z"
    }
   },
   "outputs": [
    {
     "data": {
      "text/plain": [
       "3"
      ]
     },
     "execution_count": 36,
     "metadata": {},
     "output_type": "execute_result"
    }
   ],
   "source": [
    "data_35000['speciesv2'].nunique()"
   ]
  },
  {
   "cell_type": "code",
   "execution_count": 37,
   "id": "c31968ac",
   "metadata": {
    "ExecuteTime": {
     "end_time": "2022-04-11T09:38:36.249124Z",
     "start_time": "2022-04-11T09:38:36.213849Z"
    }
   },
   "outputs": [
    {
     "data": {
      "text/plain": [
       "51.93"
      ]
     },
     "execution_count": 37,
     "metadata": {},
     "output_type": "execute_result"
    }
   ],
   "source": [
    "dumb_model_speciesv2_35000 = round(data_35000['speciesv2'].value_counts()[0] / len(data_35000) *100,2)\n",
    "dumb_model_speciesv2_35000"
   ]
  },
  {
   "cell_type": "code",
   "execution_count": 38,
   "id": "5f73a146",
   "metadata": {
    "ExecuteTime": {
     "end_time": "2022-04-11T09:38:36.861548Z",
     "start_time": "2022-04-11T09:38:36.777449Z"
    }
   },
   "outputs": [
    {
     "name": "stdout",
     "output_type": "stream",
     "text": [
      "[51.93, 33.47, 14.6]\n"
     ]
    }
   ],
   "source": [
    "rep_speciesv2_35000 = [round(data_35000['speciesv2'].value_counts()[x] / len(data_35000) *100,2) for x in range(len(data_35000['speciesv2'].value_counts()))]\n",
    "print(rep_speciesv2_35000)"
   ]
  },
  {
   "cell_type": "code",
   "execution_count": 39,
   "id": "016ae248",
   "metadata": {
    "ExecuteTime": {
     "end_time": "2022-04-11T09:38:38.142906Z",
     "start_time": "2022-04-11T09:38:37.554550Z"
    }
   },
   "outputs": [
    {
     "data": {
      "image/png": "[encoded data removed]",
      "text/plain": [
       "<Figure size 432x288 with 1 Axes>"
      ]
     },
     "metadata": {
      "needs_background": "light"
     },
     "output_type": "display_data"
    }
   ],
   "source": [
    "plt.bar(*zip(*speciesv2_dict.items()))\n",
    "plt.title('Distribution des espèces en 3 classes')\n",
    "plt.show();"
   ]
  },
  {
   "cell_type": "markdown",
   "id": "c6a7f8d3",
   "metadata": {},
   "source": [
    "## Data 15 000 images"
   ]
  },
  {
   "cell_type": "code",
   "execution_count": 41,
   "id": "4f19ee52",
   "metadata": {
    "ExecuteTime": {
     "end_time": "2022-04-11T10:25:38.699464Z",
     "start_time": "2022-04-11T10:25:38.215674Z"
    }
   },
   "outputs": [
    {
     "data": {
      "text/html": [
       "<div>\n",
       "<style scoped>\n",
       "    .dataframe tbody tr th:only-of-type {\n",
       "        vertical-align: middle;\n",
       "    }\n",
       "\n",
       "    .dataframe tbody tr th {\n",
       "        vertical-align: top;\n",
       "    }\n",
       "\n",
       "    .dataframe thead th {\n",
       "        text-align: right;\n",
       "    }\n",
       "</style>\n",
       "<table border=\"1\" class=\"dataframe\">\n",
       "  <thead>\n",
       "    <tr style=\"text-align: right;\">\n",
       "      <th></th>\n",
       "      <th>image</th>\n",
       "      <th>species</th>\n",
       "      <th>individual_id</th>\n",
       "      <th>speciesv2</th>\n",
       "    </tr>\n",
       "  </thead>\n",
       "  <tbody>\n",
       "    <tr>\n",
       "      <th>0</th>\n",
       "      <td>00021adfb725ed.jpg</td>\n",
       "      <td>melon_headed_whale</td>\n",
       "      <td>cadddb1636b9</td>\n",
       "      <td>whale</td>\n",
       "    </tr>\n",
       "    <tr>\n",
       "      <th>1</th>\n",
       "      <td>000562241d384d.jpg</td>\n",
       "      <td>humpback_whale</td>\n",
       "      <td>1a71fbb72250</td>\n",
       "      <td>whale</td>\n",
       "    </tr>\n",
       "    <tr>\n",
       "      <th>2</th>\n",
       "      <td>0007c33415ce37.jpg</td>\n",
       "      <td>false_killer_whale</td>\n",
       "      <td>60008f293a2b</td>\n",
       "      <td>whale</td>\n",
       "    </tr>\n",
       "    <tr>\n",
       "      <th>3</th>\n",
       "      <td>0007d9bca26a99.jpg</td>\n",
       "      <td>bottlenose_dolphin</td>\n",
       "      <td>4b00fe572063</td>\n",
       "      <td>dolphin</td>\n",
       "    </tr>\n",
       "    <tr>\n",
       "      <th>4</th>\n",
       "      <td>00087baf5cef7a.jpg</td>\n",
       "      <td>humpback_whale</td>\n",
       "      <td>8e5253662392</td>\n",
       "      <td>whale</td>\n",
       "    </tr>\n",
       "    <tr>\n",
       "      <th>...</th>\n",
       "      <td>...</td>\n",
       "      <td>...</td>\n",
       "      <td>...</td>\n",
       "      <td>...</td>\n",
       "    </tr>\n",
       "    <tr>\n",
       "      <th>14995</th>\n",
       "      <td>4bde08624a15b0.jpg</td>\n",
       "      <td>humpback_whale</td>\n",
       "      <td>6a6fa3ec3810</td>\n",
       "      <td>whale</td>\n",
       "    </tr>\n",
       "    <tr>\n",
       "      <th>14996</th>\n",
       "      <td>4bde1a53e11cc6.jpg</td>\n",
       "      <td>blue_whale</td>\n",
       "      <td>b2e3f33766a1</td>\n",
       "      <td>whale</td>\n",
       "    </tr>\n",
       "    <tr>\n",
       "      <th>14997</th>\n",
       "      <td>4bdeae775e0a0c.jpg</td>\n",
       "      <td>dusky_dolphin</td>\n",
       "      <td>5384a03ce34d</td>\n",
       "      <td>dolphin</td>\n",
       "    </tr>\n",
       "    <tr>\n",
       "      <th>14998</th>\n",
       "      <td>4bdecf5fd5857d.jpg</td>\n",
       "      <td>humpback_whale</td>\n",
       "      <td>ca69a5d7c122</td>\n",
       "      <td>whale</td>\n",
       "    </tr>\n",
       "    <tr>\n",
       "      <th>14999</th>\n",
       "      <td>4bdfd74c0d3e2e.jpg</td>\n",
       "      <td>gray_whale</td>\n",
       "      <td>541203120577</td>\n",
       "      <td>whale</td>\n",
       "    </tr>\n",
       "  </tbody>\n",
       "</table>\n",
       "<p>15000 rows × 4 columns</p>\n",
       "</div>"
      ],
      "text/plain": [
       "                    image             species individual_id speciesv2\n",
       "0      00021adfb725ed.jpg  melon_headed_whale  cadddb1636b9     whale\n",
       "1      000562241d384d.jpg      humpback_whale  1a71fbb72250     whale\n",
       "2      0007c33415ce37.jpg  false_killer_whale  60008f293a2b     whale\n",
       "3      0007d9bca26a99.jpg  bottlenose_dolphin  4b00fe572063   dolphin\n",
       "4      00087baf5cef7a.jpg      humpback_whale  8e5253662392     whale\n",
       "...                   ...                 ...           ...       ...\n",
       "14995  4bde08624a15b0.jpg      humpback_whale  6a6fa3ec3810     whale\n",
       "14996  4bde1a53e11cc6.jpg          blue_whale  b2e3f33766a1     whale\n",
       "14997  4bdeae775e0a0c.jpg       dusky_dolphin  5384a03ce34d   dolphin\n",
       "14998  4bdecf5fd5857d.jpg      humpback_whale  ca69a5d7c122     whale\n",
       "14999  4bdfd74c0d3e2e.jpg          gray_whale  541203120577     whale\n",
       "\n",
       "[15000 rows x 4 columns]"
      ]
     },
     "execution_count": 41,
     "metadata": {},
     "output_type": "execute_result"
    }
   ],
   "source": [
    "path = '../../asoggia/tails-and-whales/raw_data/train_kaggle.csv'\n",
    "train_data_15000 = pd.read_csv(path)\n",
    "train_data_15000.head(5)\n",
    "\n",
    "train_data_15000['speciesv2'] = train_data_15000['species']\n",
    "train_data_15000['speciesv2'].loc[train_data_15000['speciesv2'].str.contains('dolphin')] = 'dolphin'\n",
    "train_data_15000['speciesv2'].loc[train_data_15000['speciesv2'].str.contains('dolpin')] = 'dolphin'\n",
    "train_data_15000['speciesv2'].loc[train_data_15000['speciesv2'].str.contains('whale')] = 'whale'\n",
    "train_data_15000 = train_data_15000[train_data_15000['speciesv2'] != 'globis']\n",
    "\n",
    "train_data_reset_index_15000 = train_data_15000.reset_index().drop(columns='index')\n",
    "train_data_reset_index_15000 = train_data_reset_index_15000[train_data_reset_index_15000.index < 15000]\n",
    "data_15000 = train_data_reset_index_15000\n",
    "data_15000"
   ]
  },
  {
   "cell_type": "code",
   "execution_count": 43,
   "id": "539867ef",
   "metadata": {
    "ExecuteTime": {
     "end_time": "2022-04-11T10:26:02.294476Z",
     "start_time": "2022-04-11T10:26:02.259771Z"
    }
   },
   "outputs": [
    {
     "data": {
      "text/plain": [
       "{'whale': 7762, 'dolphin': 5050, 'beluga': 2188}"
      ]
     },
     "execution_count": 43,
     "metadata": {},
     "output_type": "execute_result"
    }
   ],
   "source": [
    "speciesv2_dict_15000 = dict(data_15000['speciesv2'].value_counts())\n",
    "speciesv2_dict_15000"
   ]
  },
  {
   "cell_type": "code",
   "execution_count": 44,
   "id": "4788fcfc",
   "metadata": {
    "ExecuteTime": {
     "end_time": "2022-04-11T10:26:25.786278Z",
     "start_time": "2022-04-11T10:26:25.757000Z"
    }
   },
   "outputs": [
    {
     "data": {
      "text/plain": [
       "51.75"
      ]
     },
     "execution_count": 44,
     "metadata": {},
     "output_type": "execute_result"
    }
   ],
   "source": [
    "dumb_model_speciesv2_15000 = round(data_15000['speciesv2'].value_counts()[0] / len(data_15000) *100,2)\n",
    "dumb_model_speciesv2_15000"
   ]
  },
  {
   "cell_type": "code",
   "execution_count": 45,
   "id": "79065439",
   "metadata": {
    "ExecuteTime": {
     "end_time": "2022-04-11T10:26:47.945134Z",
     "start_time": "2022-04-11T10:26:47.901154Z"
    }
   },
   "outputs": [
    {
     "name": "stdout",
     "output_type": "stream",
     "text": [
      "[51.75, 33.67, 14.59]\n"
     ]
    }
   ],
   "source": [
    "rep_speciesv2_15000 = [round(data_15000['speciesv2'].value_counts()[x] / len(data_15000) *100,2) for x in range(len(data_15000['speciesv2'].value_counts()))]\n",
    "print(rep_speciesv2_15000)"
   ]
  },
  {
   "cell_type": "code",
   "execution_count": 46,
   "id": "29440b47",
   "metadata": {
    "ExecuteTime": {
     "end_time": "2022-04-11T10:26:59.860663Z",
     "start_time": "2022-04-11T10:26:59.417355Z"
    }
   },
   "outputs": [
    {
     "data": {
      "image/png": "[encoded data removed]",
      "text/plain": [
       "<Figure size 432x288 with 1 Axes>"
      ]
     },
     "metadata": {
      "needs_background": "light"
     },
     "output_type": "display_data"
    }
   ],
   "source": [
    "plt.bar(*zip(*speciesv2_dict.items()))\n",
    "plt.title('Distribution des espèces en 3 classes')\n",
    "plt.show();"
   ]
  },
  {
   "cell_type": "code",
   "execution_count": null,
   "id": "ce0fdb92",
   "metadata": {},
   "outputs": [],
   "source": []
  }
 ],
 "metadata": {
  "kernelspec": {
   "display_name": "Python 3 (ipykernel)",
   "language": "python",
   "name": "python3"
  },
  "language_info": {
   "codemirror_mode": {
    "name": "ipython",
    "version": 3
   },
   "file_extension": ".py",
   "mimetype": "text/x-python",
   "name": "python",
   "nbconvert_exporter": "python",
   "pygments_lexer": "ipython3",
   "version": "3.8.12"
  },
  "toc": {
   "base_numbering": 1,
   "nav_menu": {},
   "number_sections": true,
   "sideBar": true,
   "skip_h1_title": false,
   "title_cell": "Table of Contents",
   "title_sidebar": "Contents",
   "toc_cell": false,
   "toc_position": {
    "height": "calc(100% - 180px)",
    "left": "10px",
    "top": "150px",
    "width": "304.475px"
   },
   "toc_section_display": true,
   "toc_window_display": true
  }
 },
 "nbformat": 4,
 "nbformat_minor": 5
}
