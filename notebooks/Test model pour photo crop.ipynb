{
 "cells": [
  {
   "cell_type": "code",
   "execution_count": 11,
   "id": "0c3ce4d2",
   "metadata": {
    "ExecuteTime": {
     "end_time": "2022-04-14T19:02:44.244796Z",
     "start_time": "2022-04-14T19:02:44.175592Z"
    }
   },
   "outputs": [],
   "source": [
    "from tensorflow.keras.models import load_model\n",
    "from tensorflow.keras.applications.vgg16 import preprocess_input\n",
    "import cv2\n",
    "import matplotlib.image as mpimg\n",
    "import matplotlib.pyplot as plt\n",
    "import numpy as np"
   ]
  },
  {
   "cell_type": "code",
   "execution_count": 12,
   "id": "61186071",
   "metadata": {
    "ExecuteTime": {
     "end_time": "2022-04-14T19:02:44.701936Z",
     "start_time": "2022-04-14T19:02:44.669193Z"
    }
   },
   "outputs": [
    {
     "data": {
      "text/plain": [
       "'/home/anthony/code/asoggia/tails-and-whales/notebooks'"
      ]
     },
     "execution_count": 12,
     "metadata": {},
     "output_type": "execute_result"
    }
   ],
   "source": [
    "pwd"
   ]
  },
  {
   "cell_type": "code",
   "execution_count": 22,
   "id": "afcf4627",
   "metadata": {
    "ExecuteTime": {
     "end_time": "2022-04-14T19:09:43.554240Z",
     "start_time": "2022-04-14T19:09:08.912054Z"
    }
   },
   "outputs": [
    {
     "name": "stdout",
     "output_type": "stream",
     "text": [
      "[0.9989405274391174, 6.434793670129224e-11, 0.0010594502091407776]\n",
      "[1.0736145668488462e-05, 0.9999867677688599, 2.458844392094761e-06]\n",
      "[2.5627178601439482e-08, 1.0, 1.786433674599852e-11]\n",
      "[0.0019358774879947305, 0.9980037808418274, 6.0296966694295406e-05]\n",
      "[0.4095481038093567, 0.5856589674949646, 0.0047928402200341225]\n",
      "[1.1622140760891853e-07, 0.9999998807907104, 5.274144836142636e-12]\n"
     ]
    }
   ],
   "source": [
    "image = ['ind2_crop_1.jpg', 'ind2_crop_2.jpg', 'ind2_crop_3.jpg', 'ind2_crop_4.jpg', 'ind2_crop_5.jpg', '0d0819819e5aa4.jpg']\n",
    "for name_img in image:\n",
    "    img = mpimg.imread(\"../image/crop1/crop1/\"+name_img)  # changer le path !!!\n",
    "    img = cv2.resize(img, dsize=(64, 64), interpolation= cv2.INTER_LINEAR)\n",
    "\n",
    "    X = np.array(img)\n",
    "    X = preprocess_input(X)\n",
    "    X = np.expand_dims(X, axis=0)\n",
    "\n",
    "    reconstructed_model = load_model('../model_7/') #attention changer le path\n",
    "    prediction = reconstructed_model.predict(X)\n",
    "\n",
    "    prediction = [float(i) for i in prediction[0]]\n",
    "    print(prediction)"
   ]
  },
  {
   "cell_type": "code",
   "execution_count": 19,
   "id": "11771e47",
   "metadata": {
    "ExecuteTime": {
     "end_time": "2022-04-14T19:07:07.803042Z",
     "start_time": "2022-04-14T19:06:43.069108Z"
    }
   },
   "outputs": [
    {
     "name": "stdout",
     "output_type": "stream",
     "text": [
      "[0.06243138015270233, 0.9210665225982666, 0.016502123326063156]\n",
      "[0.889510989189148, 0.1104889065027237, 1.1671459532180961e-07]\n",
      "[0.006751975975930691, 0.002293570898473263, 0.9909544587135315]\n",
      "[0.015874437987804413, 0.9841254949569702, 6.071887526104547e-08]\n"
     ]
    }
   ],
   "source": [
    "image = ['ind_3_crop_1.jpg', 'ind_3_crop_2.jpg', 'ind_3_crop_3.jpg', 'Naturalistwhalewatchingtour20220330.jpg']\n",
    "for name_img in image:\n",
    "    img = mpimg.imread(\"../image/crop2/crop2/\"+name_img)  # changer le path !!!\n",
    "    img = cv2.resize(img, dsize=(64, 64), interpolation= cv2.INTER_LINEAR)\n",
    "\n",
    "    X = np.array(img)\n",
    "    X = preprocess_input(X)\n",
    "    X = np.expand_dims(X, axis=0)\n",
    "\n",
    "    reconstructed_model = load_model('../model_7/') #attention changer le path\n",
    "    prediction = reconstructed_model.predict(X)\n",
    "\n",
    "    prediction = [float(i) for i in prediction[0]]\n",
    "    print(prediction)"
   ]
  },
  {
   "cell_type": "code",
   "execution_count": 21,
   "id": "137cad4a",
   "metadata": {
    "ExecuteTime": {
     "end_time": "2022-04-14T19:08:32.372158Z",
     "start_time": "2022-04-14T19:08:10.899984Z"
    }
   },
   "outputs": [
    {
     "name": "stdout",
     "output_type": "stream",
     "text": [
      "[0.18368056416511536, 0.7815660834312439, 0.03475342318415642]\n",
      "[0.19944675266742706, 0.23763926327228546, 0.5629140138626099]\n",
      "[0.6596397161483765, 7.16154245310463e-05, 0.3402886390686035]\n",
      "[0.9999998807907104, 1.4493247135760612e-07, 3.506912468753676e-11]\n"
     ]
    }
   ],
   "source": [
    "image = ['ind_4_crop_1.jpg', 'ind_4_crop_2.jpg', 'ind_4_crop_3.jpg', 'Naturalistwhalewatchingtour20220331-13.jpg']\n",
    "for name_img in image:\n",
    "    img = mpimg.imread(\"../image/crop3/crop3/\"+name_img)  # changer le path !!!\n",
    "    img = cv2.resize(img, dsize=(64, 64), interpolation= cv2.INTER_LINEAR)\n",
    "\n",
    "    X = np.array(img)\n",
    "    X = preprocess_input(X)\n",
    "    X = np.expand_dims(X, axis=0)\n",
    "\n",
    "    reconstructed_model = load_model('../model_7/') #attention changer le path\n",
    "    prediction = reconstructed_model.predict(X)\n",
    "\n",
    "    prediction = [float(i) for i in prediction[0]]\n",
    "    print(prediction)"
   ]
  },
  {
   "cell_type": "code",
   "execution_count": 56,
   "id": "5cf37401",
   "metadata": {
    "ExecuteTime": {
     "end_time": "2022-04-14T13:05:01.817842Z",
     "start_time": "2022-04-14T13:05:01.798622Z"
    }
   },
   "outputs": [
    {
     "name": "stdout",
     "output_type": "stream",
     "text": [
      "0.00\n"
     ]
    }
   ],
   "source": [
    "print(\"%.2f\" % reponse)"
   ]
  },
  {
   "cell_type": "code",
   "execution_count": 7,
   "id": "92b55eb2",
   "metadata": {
    "ExecuteTime": {
     "end_time": "2022-04-14T16:05:19.407139Z",
     "start_time": "2022-04-14T16:05:19.379672Z"
    }
   },
   "outputs": [
    {
     "data": {
      "text/plain": [
       "0.99"
      ]
     },
     "execution_count": 7,
     "metadata": {},
     "output_type": "execute_result"
    }
   ],
   "source": [
    "a = truncate(prediction[1],2)\n",
    "a"
   ]
  },
  {
   "cell_type": "code",
   "execution_count": 10,
   "id": "f7472065",
   "metadata": {
    "ExecuteTime": {
     "end_time": "2022-04-14T16:05:42.565537Z",
     "start_time": "2022-04-14T16:05:42.545597Z"
    }
   },
   "outputs": [
    {
     "name": "stdout",
     "output_type": "stream",
     "text": [
      "99.0 %\n"
     ]
    }
   ],
   "source": [
    "print(f\"{a*100} %\")"
   ]
  },
  {
   "cell_type": "code",
   "execution_count": null,
   "id": "61055a55",
   "metadata": {},
   "outputs": [],
   "source": []
  }
 ],
 "metadata": {
  "kernelspec": {
   "display_name": "Python 3 (ipykernel)",
   "language": "python",
   "name": "python3"
  },
  "language_info": {
   "codemirror_mode": {
    "name": "ipython",
    "version": 3
   },
   "file_extension": ".py",
   "mimetype": "text/x-python",
   "name": "python",
   "nbconvert_exporter": "python",
   "pygments_lexer": "ipython3",
   "version": "3.8.12"
  },
  "toc": {
   "base_numbering": 1,
   "nav_menu": {},
   "number_sections": true,
   "sideBar": true,
   "skip_h1_title": false,
   "title_cell": "Table of Contents",
   "title_sidebar": "Contents",
   "toc_cell": false,
   "toc_position": {},
   "toc_section_display": true,
   "toc_window_display": false
  }
 },
 "nbformat": 4,
 "nbformat_minor": 5
}
