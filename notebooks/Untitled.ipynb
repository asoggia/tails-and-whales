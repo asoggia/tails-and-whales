{
 "cells": [
  {
   "cell_type": "code",
   "execution_count": 2,
   "id": "4039943c",
   "metadata": {
    "ExecuteTime": {
     "end_time": "2022-04-08T14:06:54.716622Z",
     "start_time": "2022-04-08T14:06:54.700637Z"
    }
   },
   "outputs": [],
   "source": [
    "import matplotlib.image as mpimg\n",
    "import numpy as np\n",
    "import cv2\n",
    "import pandas as pd\n",
    "import pickle\n",
    "from tensorflow.keras.utils import to_categorical\n",
    "#from google.colab import auth"
   ]
  },
  {
   "cell_type": "code",
   "execution_count": null,
   "id": "f4b13481",
   "metadata": {
    "ExecuteTime": {
     "start_time": "2022-04-08T14:20:32.767Z"
    }
   },
   "outputs": [
    {
     "name": "stdout",
     "output_type": "stream",
     "text": [
      "zsh:1: permission denied: /etc/apt/sources.list.d/gcsfuse.list\n",
      "[sudo] password for anthony: E: This command can only be used by root.\n",
      "\n",
      "[sudo] password for anthony: \n",
      "[sudo] password for anthony: "
     ]
    }
   ],
   "source": [
    "# load and make changes to csv\n",
    "#auth.authenticate_user()\n",
    "!echo \"deb http://packages.cloud.google.com/apt gcsfuse-bionic main\" > /etc/apt/sources.list.d/gcsfuse.list\n",
    "!curl https://packages.cloud.google.com/apt/doc/apt-key.gpg | apt-key add -\n",
    "!apt -qq update\n",
    "!apt -qq install gcsfuse\n",
    "#!mkdir tails-and-whales\n",
    "!gcsfuse tails-and-whales tails-and-whales"
   ]
  },
  {
   "cell_type": "code",
   "execution_count": 4,
   "id": "91569eef",
   "metadata": {
    "ExecuteTime": {
     "end_time": "2022-04-08T14:17:04.030092Z",
     "start_time": "2022-04-08T14:17:03.969618Z"
    }
   },
   "outputs": [
    {
     "data": {
      "text/plain": [
       "'/home/anthony/code/asoggia/tails-and-whales/notebooks'"
      ]
     },
     "execution_count": 4,
     "metadata": {},
     "output_type": "execute_result"
    }
   ],
   "source": [
    "pwd"
   ]
  },
  {
   "cell_type": "code",
   "execution_count": null,
   "id": "0dc08465",
   "metadata": {},
   "outputs": [],
   "source": [
    "gcloud auth application-default login\n",
    "gcloud auth login\n",
    "gcsfuse tails-and-whales ../raw_data/"
   ]
  },
  {
   "cell_type": "code",
   "execution_count": null,
   "id": "83822ded",
   "metadata": {
    "ExecuteTime": {
     "start_time": "2022-04-08T15:13:35.418Z"
    }
   },
   "outputs": [],
   "source": [
    "# imports\n",
    "\n",
    "def create_X_y(number_of_photos):\n",
    "    # load and make changes to csv\n",
    "    path = '/home/anthony/code/asoggia/tails-and-whales/raw_data/train_kaggle.csv'\n",
    "    data = pd.read_csv(path)\n",
    "    data['speciesv2'] = data['species']\n",
    "    data['speciesv2'].loc[data['speciesv2'].str.contains('dolphin')] = 'dolphin'\n",
    "    data['speciesv2'].loc[data['speciesv2'].str.contains('dolpin')] = 'dolphin'\n",
    "    data['speciesv2'].loc[data['speciesv2'].str.contains('whale')] = 'whale'\n",
    "\n",
    "    # create and save X in raw-data/X.pkl\n",
    "    path = \"/content/tails-and-whales/train_images/\"\n",
    "    images_list = list(data['image'])\n",
    "\n",
    "    # This block code includes a resizing step\n",
    "    loaded_images = []\n",
    "    a = 1\n",
    "    for image in images_list[:number_of_photos]:   #Select this value in the parameters\n",
    "        print(a)\n",
    "        img = mpimg.imread(path + image)\n",
    "        img = cv2.resize(img, dsize=(256, 256), interpolation= cv2.INTER_LINEAR)\n",
    "        loaded_images.append(np.array(img))\n",
    "        a +=1\n",
    "\n",
    "    # Code a function which will detect the index of B&W images\n",
    "    list_index_bw = []\n",
    "    list_len = []\n",
    "    for index,img in enumerate(loaded_images):\n",
    "        if len(img.shape) != 3:\n",
    "            list_index_bw.append(index)\n",
    "            list_len.append(len(img.shape))\n",
    "    for i in list_index_bw:\n",
    "        loaded_images[i] = np.stack((loaded_images[i],)*3, axis=-1)\n",
    "\n",
    "\n",
    "    X = np.array(loaded_images)\n",
    "    with open(\"X.pkl\", \"wb\") as fp:   #Pickling\n",
    "        pickle.dump(X, fp)\n",
    "\n",
    "    # create and save y in raw_data/y.pkl\n",
    "    classes = {'whale':0, 'dolphin':1, 'beluga':2}\n",
    "    #Add a new column 'class' on data_sample df\n",
    "    data['class'] = data['speciesv2'].map(classes)\n",
    "    num_classes = 3\n",
    "    y = to_categorical(data['class'][:number_of_photos], num_classes=num_classes)\n",
    "    with open(\"y.pkl\", \"wb\") as fp:   #Pickling\n",
    "        pickle.dump(y, fp)\n",
    "\n",
    "    print(\"X and y are saved ! Well Done !\")\n"
   ]
  },
  {
   "cell_type": "code",
   "execution_count": null,
   "id": "fd86829d",
   "metadata": {},
   "outputs": [],
   "source": []
  }
 ],
 "metadata": {
  "kernelspec": {
   "display_name": "Python 3 (ipykernel)",
   "language": "python",
   "name": "python3"
  },
  "language_info": {
   "codemirror_mode": {
    "name": "ipython",
    "version": 3
   },
   "file_extension": ".py",
   "mimetype": "text/x-python",
   "name": "python",
   "nbconvert_exporter": "python",
   "pygments_lexer": "ipython3",
   "version": "3.8.12"
  },
  "toc": {
   "base_numbering": 1,
   "nav_menu": {},
   "number_sections": true,
   "sideBar": true,
   "skip_h1_title": false,
   "title_cell": "Table of Contents",
   "title_sidebar": "Contents",
   "toc_cell": false,
   "toc_position": {},
   "toc_section_display": true,
   "toc_window_display": false
  }
 },
 "nbformat": 4,
 "nbformat_minor": 5
}
