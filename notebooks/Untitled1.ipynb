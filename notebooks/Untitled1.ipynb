{
 "cells": [
  {
   "cell_type": "code",
   "execution_count": 2,
   "id": "0c3ce4d2",
   "metadata": {
    "ExecuteTime": {
     "end_time": "2022-04-10T14:56:14.415631Z",
     "start_time": "2022-04-10T14:56:13.976736Z"
    }
   },
   "outputs": [],
   "source": [
    "import numpy as np"
   ]
  },
  {
   "cell_type": "code",
   "execution_count": 3,
   "id": "95f4fa7f",
   "metadata": {
    "ExecuteTime": {
     "end_time": "2022-04-10T14:59:18.063676Z",
     "start_time": "2022-04-10T14:56:15.620022Z"
    }
   },
   "outputs": [],
   "source": [
    "with open('../raw_data/preprocessed_data/X_1.npy', 'rb') as f:\n",
    "    X_1 = np.load(f)\n",
    "    \n",
    "with open('../raw_data/preprocessed_data/X_2.npy', 'rb') as g:\n",
    "    X_2 = np.load(g)"
   ]
  },
  {
   "cell_type": "code",
   "execution_count": null,
   "id": "3a292b56",
   "metadata": {
    "ExecuteTime": {
     "start_time": "2022-04-10T14:56:19.827Z"
    }
   },
   "outputs": [],
   "source": [
    "X = np.concatenate((X_1,X_2), axis=0)"
   ]
  },
  {
   "cell_type": "code",
   "execution_count": null,
   "id": "b337d1e5",
   "metadata": {},
   "outputs": [],
   "source": []
  }
 ],
 "metadata": {
  "kernelspec": {
   "display_name": "Python 3 (ipykernel)",
   "language": "python",
   "name": "python3"
  },
  "language_info": {
   "codemirror_mode": {
    "name": "ipython",
    "version": 3
   },
   "file_extension": ".py",
   "mimetype": "text/x-python",
   "name": "python",
   "nbconvert_exporter": "python",
   "pygments_lexer": "ipython3",
   "version": "3.8.12"
  },
  "toc": {
   "base_numbering": 1,
   "nav_menu": {},
   "number_sections": true,
   "sideBar": true,
   "skip_h1_title": false,
   "title_cell": "Table of Contents",
   "title_sidebar": "Contents",
   "toc_cell": false,
   "toc_position": {},
   "toc_section_display": true,
   "toc_window_display": false
  }
 },
 "nbformat": 4,
 "nbformat_minor": 5
}
