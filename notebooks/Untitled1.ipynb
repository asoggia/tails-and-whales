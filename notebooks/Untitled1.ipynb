{
 "cells": [
  {
   "cell_type": "code",
   "execution_count": 4,
   "id": "0c3ce4d2",
   "metadata": {
    "ExecuteTime": {
     "end_time": "2022-04-11T08:26:28.256059Z",
     "start_time": "2022-04-11T08:26:28.248266Z"
    }
   },
   "outputs": [],
   "source": [
    "import numpy as np\n",
    "import os"
   ]
  },
  {
   "cell_type": "code",
   "execution_count": 9,
   "id": "95f4fa7f",
   "metadata": {
    "ExecuteTime": {
     "end_time": "2022-04-11T08:28:43.365833Z",
     "start_time": "2022-04-11T08:27:41.610678Z"
    }
   },
   "outputs": [],
   "source": [
    "path = '../raw_data/preprocessed_data/'\n",
    "with open(os.path.join(path,'X_test.npy'), 'rb') as f:\n",
    "    X_test = np.load(f)\n",
    "    \n",
    "with open(os.path.join(path,'y_test.npy'), 'rb') as f:\n",
    "    y_test = np.load(f)"
   ]
  },
  {
   "cell_type": "code",
   "execution_count": null,
   "id": "afcf4627",
   "metadata": {},
   "outputs": [],
   "source": []
  }
 ],
 "metadata": {
  "kernelspec": {
   "display_name": "Python 3 (ipykernel)",
   "language": "python",
   "name": "python3"
  },
  "language_info": {
   "codemirror_mode": {
    "name": "ipython",
    "version": 3
   },
   "file_extension": ".py",
   "mimetype": "text/x-python",
   "name": "python",
   "nbconvert_exporter": "python",
   "pygments_lexer": "ipython3",
   "version": "3.8.12"
  },
  "toc": {
   "base_numbering": 1,
   "nav_menu": {},
   "number_sections": true,
   "sideBar": true,
   "skip_h1_title": false,
   "title_cell": "Table of Contents",
   "title_sidebar": "Contents",
   "toc_cell": false,
   "toc_position": {},
   "toc_section_display": true,
   "toc_window_display": false
  }
 },
 "nbformat": 4,
 "nbformat_minor": 5
}
