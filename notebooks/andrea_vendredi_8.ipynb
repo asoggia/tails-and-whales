{
  "nbformat": 4,
  "nbformat_minor": 0,
  "metadata": {
    "colab": {
      "name": "andrea_vendredi_8.ipynb",
      "provenance": [],
      "collapsed_sections": []
    },
    "kernelspec": {
      "name": "python3",
      "display_name": "Python 3"
    },
    "language_info": {
      "name": "python"
    },
    "accelerator": "GPU"
  },
  "cells": [
    {
      "cell_type": "code",
      "source": [
        "import matplotlib.image as mpimg\n",
        "import numpy as np\n",
        "import cv2\n",
        "import pandas as pd\n",
        "import pickle\n",
        "from tensorflow.keras.utils import to_categorical"
      ],
      "metadata": {
        "id": "DO3PKxczukyu"
      },
      "execution_count": 2,
      "outputs": []
    },
    {
      "cell_type": "code",
      "source": [
        "from google.colab import drive\n",
        "drive.mount('/content/drive/')"
      ],
      "metadata": {
        "colab": {
          "base_uri": "https://localhost:8080/"
        },
        "id": "ndk0MYYaZE3D",
        "outputId": "d6954d54-5497-4664-aec6-e86076d9a18a"
      },
      "execution_count": 3,
      "outputs": [
        {
          "output_type": "stream",
          "name": "stdout",
          "text": [
            "Drive already mounted at /content/drive/; to attempt to forcibly remount, call drive.mount(\"/content/drive/\", force_remount=True).\n"
          ]
        }
      ]
    },
    {
      "cell_type": "code",
      "source": [
        "# A n'utiliser que si les photos sont stockées sur google drive - et penser à adapter le path\n",
        "\n",
        "def create_X_y_from_my_drive(number_of_photos):\n",
        "\n",
        "    # create and save X in raw-data/X.pkl\n",
        "    path = '/content/drive/My Drive/Colab Notebooks/tails-and-whales_dataset/train_sample_500/'\n",
        "    data_sample = pd.read_csv(path+'train_data_sample.csv')\n",
        "    images_list = list(data_sample['image'])\n",
        "\n",
        "    # This block code includes a resizing step\n",
        "    loaded_images = []\n",
        "    a = 1\n",
        "    for image in images_list[:number_of_photos]:   #Select this value in the parameters\n",
        "        print(a)\n",
        "        img = mpimg.imread(path + 'train_sample_image/' + image)\n",
        "        img = cv2.resize(img, dsize=(256, 256), interpolation= cv2.INTER_LINEAR)\n",
        "        loaded_images.append(np.array(img))\n",
        "        a +=1\n",
        "\n",
        "    # Code a function which will detect the index of B&W images\n",
        "    list_index_bw = []\n",
        "    list_len = []\n",
        "    for index,img in enumerate(loaded_images):\n",
        "        if len(img.shape) != 3:\n",
        "            list_index_bw.append(index)\n",
        "            list_len.append(len(img.shape))\n",
        "    for i in list_index_bw:\n",
        "        loaded_images[i] = np.stack((loaded_images[i],)*3, axis=-1)\n",
        "\n",
        "\n",
        "    X = np.array(loaded_images)\n",
        "    with open(f\"X_{number_of_photos}.pkl\", \"wb\") as fp:   #Pickling\n",
        "        pickle.dump(X, fp)\n",
        "\n",
        "    # create and save y in raw_data/y.pkl\n",
        "    classes = {'whale':0, 'dolphin':1, 'beluga':2}\n",
        "    #Add a new column 'class' on data_sample df\n",
        "    data_sample['class'] = data_sample['speciesv2'].map(classes)\n",
        "    num_classes = 3\n",
        "    y = to_categorical(data_sample['class'][:number_of_photos], num_classes=num_classes)\n",
        "    with open(f\"y_{number_of_photos}.pkl\", \"wb\") as fp:   #Pickling\n",
        "        pickle.dump(y, fp)\n",
        "\n",
        "    print(\"X and y are saved ! Well Done !\")\n"
      ],
      "metadata": {
        "id": "ePl4ssdmsV6P"
      },
      "execution_count": 4,
      "outputs": []
    },
    {
      "cell_type": "code",
      "source": [
        "# Passer en paramètre le nombre de photos souhaitées (max 500 sur google drive d'Andrea)\n",
        "\n",
        "create_X_y_from_my_drive(350)"
      ],
      "metadata": {
        "id": "z379Yi8Wt8jo"
      },
      "execution_count": null,
      "outputs": []
    },
    {
      "cell_type": "code",
      "source": [
        "from tensorflow.keras.applications.vgg16 import VGG16 #vgg16\n",
        "from tensorflow.keras.applications.resnet import ResNet101 #resnet101\n",
        "from tensorflow.keras.applications.mobilenet_v2 import MobileNetV2 #mobilenetv2\n",
        "from tensorflow.keras.applications.vgg16 import preprocess_input\n",
        "from tensorflow.keras.callbacks import EarlyStopping\n",
        "from sklearn.metrics import classification_report\n",
        "from sklearn.metrics import confusion_matrix\n",
        "from tensorflow.keras import layers, models\n",
        "from tensorflow.keras import optimizers\n",
        "import numpy as np\n",
        "import pickle"
      ],
      "metadata": {
        "id": "D5c_MZbmgooq"
      },
      "execution_count": 6,
      "outputs": []
    },
    {
      "cell_type": "code",
      "source": [
        "def load_data_drive(num_of_images):\n",
        "# Use the following method to load X and y from pickle file STORED ON GOOGLE DRIVE\n",
        "    path = '/content/drive/My Drive/Colab Notebooks/tails-and-whales_dataset/train_sample_pickle/'\n",
        "\n",
        "    with open(f'{path}X_{num_of_images}.pkl', 'rb') as handle: # A voir si le chemin fonctionne.\n",
        "        X = pickle.load(handle)\n",
        "    with open(f'{path}y_{num_of_images}.pkl', 'rb') as handle: # A voir si le chemin fonctionne.\n",
        "        y = pickle.load(handle)\n",
        "\n",
        "    return X, y\n",
        "\n",
        "#### code for appeler la fct en fin de notebook ####  X, y = load_data()"
      ],
      "metadata": {
        "id": "Z0g42KUjapIW"
      },
      "execution_count": 7,
      "outputs": []
    },
    {
      "cell_type": "code",
      "source": [
        "### DO NOT USE THIS CELL FOR NOW -- à modifier \n",
        "\n",
        "\n",
        "def load_data():\n",
        "# Use the following method to load X and y from pickle file\n",
        "\n",
        "    with open('X_10.pkl', 'rb') as handle: # A voir si le chemin fonctionne.\n",
        "        X = pickle.load(handle)\n",
        "    with open('y_10.pkl', 'rb') as handle: # A voir si le chemin fonctionne.\n",
        "        y = pickle.load(handle)\n",
        "\n",
        "    return X, y\n",
        "\n",
        "#### code for appeler la fct en fin de notebook ####  X, y = load_data()"
      ],
      "metadata": {
        "id": "XK_DdigDe56b"
      },
      "execution_count": 8,
      "outputs": []
    },
    {
      "cell_type": "code",
      "source": [
        "def train_val_test_split(X, y):\n",
        "# Use the following method to create X_train, y_train, X_val, y_val, X_test, y_test\n",
        "\n",
        "    first_split = int(X.shape[0] /6.)\n",
        "    second_split = first_split + int(X.shape[0] * 0.2)\n",
        "    X_test, X_val, X_train = X[:first_split], X[first_split:second_split], X[second_split:]\n",
        "    y_test, y_val, y_train = y[:first_split], y[first_split:second_split], y[second_split:]\n",
        "\n",
        "    return X_test, X_val, X_train, y_test, y_val, y_train\n",
        "\n",
        "#### code for appeler la fct en fin de notebook #### X_test, X_val, X_train, y_test, y_val, y_train = train_val_test_split(X, y)"
      ],
      "metadata": {
        "id": "G0817lssarpH"
      },
      "execution_count": 9,
      "outputs": []
    },
    {
      "cell_type": "code",
      "source": [
        "def load_model(pretrained_model = 'vgg16'):\n",
        "# Use the following method to import the pre-trained model, as default vgg16\n",
        "# Important note about BatchNormalization layers (for MobileNetV2) !!\n",
        "\n",
        "    if pretrained_model == 'vgg16':\n",
        "      model = VGG16(weights=\"imagenet\", include_top=False, input_shape=X_train[0].shape)\n",
        "\n",
        "    if pretrained_model == 'resnet101':\n",
        "      model = ResNet101(weights=\"imagenet\", include_top=False, input_shape=X_train[0].shape)\n",
        "\n",
        "    if pretrained_model == 'mobilenetv2':\n",
        "      model = MobileNetV2(weights=\"imagenet\", include_top=False, input_shape=X_train[0].shape)\n",
        "\n",
        "    return model\n",
        "\n",
        "#### code for appeler la fct en fin de notebook #### model = load_model()"
      ],
      "metadata": {
        "id": "OzeJm4YxatAa"
      },
      "execution_count": 10,
      "outputs": []
    },
    {
      "cell_type": "code",
      "source": [
        "def set_trainable_layers(model, train = False):\n",
        "# Use the following method to freeze the convolutional base and decide to retrain or not the last layers (if so, how many?)\n",
        "\n",
        "    # Set the first layers to be untrainable\n",
        "    if train == False:\n",
        "        model.trainable = False\n",
        "    elif train == True:\n",
        "    # Set the last layers to be trainable\n",
        "        model.trainable = True\n",
        "    # Fine-tune from this layer onwards\n",
        "        retrain_layers = int(input('How many layer(s) would you like to re-train? '))\n",
        "        fine_tune_at = len(model.layers) - retrain_layers\n",
        "    # Freeze all the layers before the `fine_tune_at` layer\n",
        "        for layer in model.layers[:fine_tune_at]:\n",
        "            layer.trainable = False\n",
        "\n",
        "    return model\n",
        "\n",
        "#### code for appeler la fct en fin de notebook #### model = set_trainable_layers(model, train = False)"
      ],
      "metadata": {
        "id": "3Rx7Ha5patKp"
      },
      "execution_count": 11,
      "outputs": []
    },
    {
      "cell_type": "code",
      "source": [
        "def add_last_layers(model):\n",
        "# Use the following method to take a pre-trained model, set its parameters as non-trainables,\n",
        "# retrain the last layers(opt) and finally add additional trainable layers on top\n",
        "\n",
        "    base_model = model\n",
        "    flatten_layer = layers.Flatten()\n",
        "    dense_layer = layers.Dense(500, activation='relu')\n",
        "    prediction_layer = layers.Dense(3, activation='softmax') ### modify this if necessary\n",
        "\n",
        "    model = models.Sequential([\n",
        "        base_model,\n",
        "        flatten_layer,\n",
        "        dense_layer,\n",
        "        prediction_layer])\n",
        "\n",
        "    return model, base_model\n",
        "\n",
        "#### code for appeler la fct en fin de notebook #### model = add_last_layers(model)"
      ],
      "metadata": {
        "id": "iTmDO098atNo"
      },
      "execution_count": 12,
      "outputs": []
    },
    {
      "cell_type": "code",
      "source": [
        "def print_mod_summary(model, base_model):\n",
        "# Use the following method to see how many layers are in the base model and print the model summary\n",
        "\n",
        "    print (\"Number of layers in the base model: \", len(base_model.layers),\"\\n\")\n",
        "    print (model.summary())\n",
        "\n",
        "#### code for appeler la fct en fin de notebook #### print_mod_summary(model, base_model)"
      ],
      "metadata": {
        "id": "Qnr7sfvratTe"
      },
      "execution_count": 13,
      "outputs": []
    },
    {
      "cell_type": "code",
      "source": [
        "def compile_model(model):\n",
        "# Use the following method to compile the model\n",
        "\n",
        "    opt = optimizers.Adam(learning_rate=1e-4) #>>> We advise the adam optimizer with learning_rate=1e-4\n",
        "    model.compile(loss='categorical_crossentropy',\n",
        "                  optimizer=opt,\n",
        "                  metrics= ['accuracy'])\n",
        "\n",
        "    return model\n",
        "\n",
        "#### code for appeler la fct en fin de notebook #### model = compile_model(model)"
      ],
      "metadata": {
        "id": "I2FZZESyatWl"
      },
      "execution_count": 14,
      "outputs": []
    },
    {
      "cell_type": "code",
      "source": [
        "def normalize_data(X_test, X_val, X_train):\n",
        "# use the following method to normalize X using preprocess_input of\n",
        "# the VGG16 pre-trained model (need to modify this fct if we use a different model)\n",
        "\n",
        "    X_train = preprocess_input(X_train)\n",
        "    X_val = preprocess_input(X_val)\n",
        "    X_test = preprocess_input(X_test)\n",
        "\n",
        "    return X_train, X_val, X_test\n",
        "\n",
        "#### code for appeler la fct en fin de notebook #### X_train, X_val, X_test = normalize_data(X_test, X_val, X_train)"
      ],
      "metadata": {
        "id": "rGPPwcxqbE36"
      },
      "execution_count": 15,
      "outputs": []
    },
    {
      "cell_type": "code",
      "source": [
        "def train_model(model, X_train, y_train, X_val, y_val):\n",
        "# use the following method to train the model\n",
        "\n",
        "    es = EarlyStopping(monitor = 'val_loss', #>>> we can change this!\n",
        "                   mode = 'auto', #>>> depends on what is being monitored!\n",
        "                   patience = 5,\n",
        "                   verbose = 1,\n",
        "                   restore_best_weights = True)\n",
        "\n",
        "    history = model.fit(X_train, y_train,\n",
        "                    validation_data=(X_val, y_val),\n",
        "                    epochs=50,\n",
        "                    batch_size=16,\n",
        "                    callbacks=[es])\n",
        "\n",
        "    return history, model\n",
        "\n",
        "#### code for appeler la fct en fin de notebook #### history = train_model(model, X_train, y_train, X_val, y_val)"
      ],
      "metadata": {
        "id": "33PLwnTVbFXB"
      },
      "execution_count": 16,
      "outputs": []
    },
    {
      "cell_type": "code",
      "source": [
        "def evaluate_model(model, X_test, y_test):\n",
        "# use the following method to evalutate the model\n",
        "\n",
        "    res_vgg = model.evaluate(X_test, y_test)\n",
        "    test_accuracy_vgg = res_vgg[-1]\n",
        "    print (\"\\n------------- RESULTS -------------\\n\")\n",
        "    print(res_vgg)\n",
        "    print (\"\\n------------- ACCURACY -------------\\n\")\n",
        "    print(f\"test_accuracy_vgg = {round(test_accuracy_vgg,2)*100} %\")\n",
        "    \n",
        "    y_pred = model.predict(X_test, verbose=1)\n",
        "    \n",
        "    return y_pred\n",
        "\n",
        "#### code for appeler la fct en fin de notebook #### evaluate_model(model, X_test, y_test)"
      ],
      "metadata": {
        "id": "c4yYto9XbGHV"
      },
      "execution_count": 17,
      "outputs": []
    },
    {
      "cell_type": "code",
      "source": [
        "def predict_model(X_test, y_test, y_pred):\n",
        "# use the following method to print the confusion matrix and the classification report\n",
        "\n",
        "    print (\"\\n------------- CONFUSION MATRIX -------------\\n\")\n",
        "    print(confusion_matrix(y_true = np.argmax(y_test, axis=1), y_pred = np.argmax(y_pred, axis=1)))\n",
        "    print (\"\\n------------- CLASSIFICATION REPORT -------------\\n\")\n",
        "    print(classification_report(np.argmax(y_test, axis=1), np.argmax(y_pred, axis=1), target_names = ['whale', 'dolphin', 'beluga'], digits=3))\n",
        "\n",
        "#### code for appeler la fct en fin de notebook #### predict_model(model, X_test, y_test)"
      ],
      "metadata": {
        "id": "PwqgOsXrbHGV"
      },
      "execution_count": 18,
      "outputs": []
    },
    {
      "cell_type": "code",
      "execution_count": 19,
      "metadata": {
        "colab": {
          "base_uri": "https://localhost:8080/"
        },
        "id": "1t6BNFssMcCd",
        "outputId": "3aa524a3-539a-449e-a6d4-422d65386a70"
      },
      "outputs": [
        {
          "output_type": "stream",
          "name": "stdout",
          "text": [
            "Downloading data from https://storage.googleapis.com/tensorflow/keras-applications/vgg16/vgg16_weights_tf_dim_ordering_tf_kernels_notop.h5\n",
            "58892288/58889256 [==============================] - 0s 0us/step\n",
            "58900480/58889256 [==============================] - 0s 0us/step\n",
            "Number of layers in the base model:  19 \n",
            "\n",
            "Model: \"sequential\"\n",
            "_________________________________________________________________\n",
            " Layer (type)                Output Shape              Param #   \n",
            "=================================================================\n",
            " vgg16 (Functional)          (None, 8, 8, 512)         14714688  \n",
            "                                                                 \n",
            " flatten (Flatten)           (None, 32768)             0         \n",
            "                                                                 \n",
            " dense (Dense)               (None, 500)               16384500  \n",
            "                                                                 \n",
            " dense_1 (Dense)             (None, 3)                 1503      \n",
            "                                                                 \n",
            "=================================================================\n",
            "Total params: 31,100,691\n",
            "Trainable params: 16,386,003\n",
            "Non-trainable params: 14,714,688\n",
            "_________________________________________________________________\n",
            "None\n",
            "Epoch 1/50\n",
            "20/20 [==============================] - 272s 14s/step - loss: 7.1984 - accuracy: 0.5962 - val_loss: 5.5192 - val_accuracy: 0.7100\n",
            "Epoch 2/50\n",
            "20/20 [==============================] - 270s 14s/step - loss: 1.2122 - accuracy: 0.8927 - val_loss: 2.8664 - val_accuracy: 0.7700\n",
            "Epoch 3/50\n",
            "20/20 [==============================] - 272s 14s/step - loss: 0.1274 - accuracy: 0.9811 - val_loss: 2.2161 - val_accuracy: 0.8300\n",
            "Epoch 4/50\n",
            "20/20 [==============================] - 271s 14s/step - loss: 0.0337 - accuracy: 0.9968 - val_loss: 2.7361 - val_accuracy: 0.8200\n",
            "Epoch 5/50\n",
            "20/20 [==============================] - 271s 14s/step - loss: 0.0080 - accuracy: 0.9968 - val_loss: 2.9716 - val_accuracy: 0.8100\n",
            "Epoch 6/50\n",
            "20/20 [==============================] - 270s 14s/step - loss: 0.0020 - accuracy: 1.0000 - val_loss: 2.9631 - val_accuracy: 0.8100\n",
            "Epoch 7/50\n",
            "20/20 [==============================] - 270s 14s/step - loss: 2.3068e-05 - accuracy: 1.0000 - val_loss: 2.9205 - val_accuracy: 0.8100\n",
            "Epoch 8/50\n",
            "20/20 [==============================] - ETA: 0s - loss: 1.9775e-05 - accuracy: 1.0000 Restoring model weights from the end of the best epoch: 3.\n",
            "20/20 [==============================] - 270s 14s/step - loss: 1.9775e-05 - accuracy: 1.0000 - val_loss: 2.9146 - val_accuracy: 0.8100\n",
            "Epoch 8: early stopping\n",
            "3/3 [==============================] - 54s 16s/step - loss: 1.0504 - accuracy: 0.9157\n",
            "\n",
            "------------- RESULTS -------------\n",
            "\n",
            "[1.0504417419433594, 0.9156626462936401]\n",
            "\n",
            "------------- ACCURACY -------------\n",
            "\n",
            "test_accuracy_vgg = 92.0 %\n",
            "3/3 [==============================] - 54s 16s/step\n",
            "\n",
            "------------- CONFUSION MATRIX -------------\n",
            "\n",
            "[[36  1  0]\n",
            " [ 4 25  0]\n",
            " [ 1  1 15]]\n",
            "\n",
            "------------- CLASSIFICATION REPORT -------------\n",
            "\n",
            "              precision    recall  f1-score   support\n",
            "\n",
            "       whale      0.878     0.973     0.923        37\n",
            "     dolphin      0.926     0.862     0.893        29\n",
            "      beluga      1.000     0.882     0.938        17\n",
            "\n",
            "    accuracy                          0.916        83\n",
            "   macro avg      0.935     0.906     0.918        83\n",
            "weighted avg      0.920     0.916     0.915        83\n",
            "\n"
          ]
        }
      ],
      "source": [
        "###### CALL THE FUNCTIONS ######\n",
        "\n",
        "#Load X and y from pickle file saved on google drive\n",
        "X, y = load_data_drive(num_of_images = 500)\n",
        "#Create X_train, y_train, X_val, y_val, X_test, y_test\n",
        "X_test, X_val, X_train, y_test, y_val, y_train = train_val_test_split(X, y)\n",
        "\n",
        "\n",
        "#Import the pre-trained model, as default vgg16\n",
        "model = load_model() #pretrained_model = 'vgg16' as default\n",
        "#From pre-trained model, set its parameters as non-trainables and retrain the last layers(opt)\n",
        "model = set_trainable_layers(model, train = False)\n",
        "#From pre-trained model and add additional trainable layers on top\n",
        "model, base_model = add_last_layers(model)\n",
        "\n",
        "#See how many layers are in the base model and print a model summary\n",
        "print_mod_summary(model, base_model)\n",
        "\n",
        "\n",
        "#Compile the model\n",
        "model = compile_model(model)\n",
        "\n",
        "#Normalize X using preprocess_input of the VGG16 pre-trained model\n",
        "X_train, X_val, X_test = normalize_data(X_test, X_val, X_train)\n",
        "\n",
        "#Train the model\n",
        "history = train_model(model, X_train, y_train, X_val, y_val) #return model as well\n",
        "#Evalutate the model\n",
        "y_pred = evaluate_model(model, X_test, y_test)\n",
        "#Print the confusion matrix and classification report\n",
        "predict_model(X_test, y_test, y_pred)"
      ]
    },
    {
      "cell_type": "code",
      "source": [
        "#len(y_test)"
      ],
      "metadata": {
        "id": "wYcNz4RsrHdM"
      },
      "execution_count": 20,
      "outputs": []
    },
    {
      "cell_type": "code",
      "source": [
        "#y_pred"
      ],
      "metadata": {
        "id": "SDWlLDGlj1qi"
      },
      "execution_count": 21,
      "outputs": []
    },
    {
      "cell_type": "code",
      "source": [
        "#np.argmax(y_test, axis=1) == np.argmax(y_pred, axis=1)"
      ],
      "metadata": {
        "id": "pTdWzV_srZer"
      },
      "execution_count": 22,
      "outputs": []
    }
  ]
}