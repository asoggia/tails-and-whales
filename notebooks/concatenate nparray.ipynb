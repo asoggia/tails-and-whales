{
 "cells": [
  {
   "cell_type": "code",
   "execution_count": 1,
   "id": "73c32e3d",
   "metadata": {
    "ExecuteTime": {
     "end_time": "2022-04-10T20:00:04.825370Z",
     "start_time": "2022-04-10T20:00:04.466179Z"
    }
   },
   "outputs": [],
   "source": [
    "import numpy as np"
   ]
  },
  {
   "cell_type": "code",
   "execution_count": 2,
   "id": "d644984a",
   "metadata": {
    "ExecuteTime": {
     "end_time": "2022-04-10T20:00:28.209321Z",
     "start_time": "2022-04-10T20:00:04.933042Z"
    }
   },
   "outputs": [
    {
     "name": "stdout",
     "output_type": "stream",
     "text": [
      "(35000, 256, 256, 3)\n"
     ]
    }
   ],
   "source": [
    "with open('../raw_data/preprocessed_data/split_ten/X_35000.npy', 'rb') as f:\n",
    "    X = np.load(f)\n",
    "print(X.shape)"
   ]
  },
  {
   "cell_type": "code",
   "execution_count": null,
   "id": "ea73b67e",
   "metadata": {
    "ExecuteTime": {
     "end_time": "2022-04-10T17:10:56.674967Z",
     "start_time": "2022-04-10T17:10:52.718900Z"
    }
   },
   "outputs": [],
   "source": [
    "with open('../raw_data/preprocessed_data/split_ten/X_1.npy', 'rb') as f:\n",
    "    X_1 = np.load(f)\n",
    "print(X_1.shape)"
   ]
  },
  {
   "cell_type": "code",
   "execution_count": null,
   "id": "5277b386",
   "metadata": {
    "ExecuteTime": {
     "start_time": "2022-04-10T17:10:57.334Z"
    }
   },
   "outputs": [],
   "source": [
    "X = np.concatenate((X,X_1), axis=0)"
   ]
  },
  {
   "cell_type": "code",
   "execution_count": null,
   "id": "6269cdea",
   "metadata": {
    "ExecuteTime": {
     "start_time": "2022-04-10T17:11:08.459Z"
    }
   },
   "outputs": [],
   "source": [
    "print(X_1.shape)\n",
    "print(X.shape)"
   ]
  },
  {
   "cell_type": "code",
   "execution_count": null,
   "id": "f62d03f3",
   "metadata": {
    "ExecuteTime": {
     "end_time": "2022-04-10T17:00:30.144142Z",
     "start_time": "2022-04-10T17:00:07.968119Z"
    }
   },
   "outputs": [],
   "source": [
    "with open('../raw_data/preprocessed_data/split_ten/X.npy', 'wb') as f:\n",
    "    np.save(f, X)"
   ]
  },
  {
   "cell_type": "code",
   "execution_count": null,
   "id": "285768c4",
   "metadata": {},
   "outputs": [],
   "source": []
  }
 ],
 "metadata": {
  "kernelspec": {
   "display_name": "Python 3 (ipykernel)",
   "language": "python",
   "name": "python3"
  },
  "language_info": {
   "codemirror_mode": {
    "name": "ipython",
    "version": 3
   },
   "file_extension": ".py",
   "mimetype": "text/x-python",
   "name": "python",
   "nbconvert_exporter": "python",
   "pygments_lexer": "ipython3",
   "version": "3.8.12"
  },
  "toc": {
   "base_numbering": 1,
   "nav_menu": {},
   "number_sections": true,
   "sideBar": true,
   "skip_h1_title": false,
   "title_cell": "Table of Contents",
   "title_sidebar": "Contents",
   "toc_cell": false,
   "toc_position": {},
   "toc_section_display": true,
   "toc_window_display": false
  }
 },
 "nbformat": 4,
 "nbformat_minor": 5
}
