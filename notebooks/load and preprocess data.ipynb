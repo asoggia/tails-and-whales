{
 "cells": [
  {
   "cell_type": "code",
   "execution_count": 14,
   "id": "c92befd7",
   "metadata": {
    "ExecuteTime": {
     "end_time": "2022-04-08T13:34:00.445245Z",
     "start_time": "2022-04-08T13:34:00.423150Z"
    }
   },
   "outputs": [
    {
     "data": {
      "text/plain": [
       "'/home/anthony/code/asoggia/tails-and-whales'"
      ]
     },
     "execution_count": 14,
     "metadata": {},
     "output_type": "execute_result"
    }
   ],
   "source": [
    "pwd"
   ]
  },
  {
   "cell_type": "code",
   "execution_count": 20,
   "id": "139724fd",
   "metadata": {
    "ExecuteTime": {
     "end_time": "2022-04-08T13:46:57.679535Z",
     "start_time": "2022-04-08T13:46:57.659683Z"
    }
   },
   "outputs": [
    {
     "ename": "SyntaxError",
     "evalue": "invalid syntax (load_preprocess.py, line 16)",
     "output_type": "error",
     "traceback": [
      "Traceback \u001b[0;36m(most recent call last)\u001b[0m:\n",
      "  File \u001b[1;32m~/.pyenv/versions/3.8.12/envs/tails-and-whales/lib/python3.8/site-packages/IPython/core/interactiveshell.py:3369\u001b[0m in \u001b[1;35mrun_code\u001b[0m\n    exec(code_obj, self.user_global_ns, self.user_ns)\n",
      "\u001b[0;36m  Input \u001b[0;32mIn [20]\u001b[0;36m in \u001b[0;35m<cell line: 1>\u001b[0;36m\u001b[0m\n\u001b[0;31m    from TailsAndWhales import load_preprocess\u001b[0m\n",
      "\u001b[0;36m  File \u001b[0;32m~/code/asoggia/tails-and-whales/TailsAndWhales/load_preprocess.py:16\u001b[0;36m\u001b[0m\n\u001b[0;31m    !echo \"deb http://packages.cloud.google.com/apt gcsfuse-bionic main\" > /etc/apt/sources.list.d/gcsfuse.list\u001b[0m\n\u001b[0m    ^\u001b[0m\n\u001b[0;31mSyntaxError\u001b[0m\u001b[0;31m:\u001b[0m invalid syntax\n"
     ]
    }
   ],
   "source": [
    "from TailsAndWhales import load_preprocess"
   ]
  },
  {
   "cell_type": "code",
   "execution_count": null,
   "id": "6ef90c22",
   "metadata": {},
   "outputs": [],
   "source": []
  }
 ],
 "metadata": {
  "kernelspec": {
   "display_name": "Python 3 (ipykernel)",
   "language": "python",
   "name": "python3"
  },
  "language_info": {
   "codemirror_mode": {
    "name": "ipython",
    "version": 3
   },
   "file_extension": ".py",
   "mimetype": "text/x-python",
   "name": "python",
   "nbconvert_exporter": "python",
   "pygments_lexer": "ipython3",
   "version": "3.8.12"
  },
  "toc": {
   "base_numbering": 1,
   "nav_menu": {},
   "number_sections": true,
   "sideBar": true,
   "skip_h1_title": false,
   "title_cell": "Table of Contents",
   "title_sidebar": "Contents",
   "toc_cell": false,
   "toc_position": {},
   "toc_section_display": true,
   "toc_window_display": false
  }
 },
 "nbformat": 4,
 "nbformat_minor": 5
}
